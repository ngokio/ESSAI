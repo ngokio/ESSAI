{
 "cells": [
  {
   "cell_type": "code",
   "execution_count": 1,
   "metadata": {},
   "outputs": [
    {
     "name": "stdout",
     "output_type": "stream",
     "text": [
      "Populating the interactive namespace from numpy and matplotlib\n"
     ]
    }
   ],
   "source": [
    "\n",
    "\n",
    "\n"
   ]
  },
  {
   "cell_type": "markdown",
   "metadata": {},
   "source": [
    "## Importation des données"
   ]
  },
  {
   "cell_type": "code",
   "execution_count": 2,
   "metadata": {
    "collapsed": true
   },
   "outputs": [],
   "source": [
    "dataset=pd.read_excel('fraud_transaction.xlsx')\n"
   ]
  },
  {
   "cell_type": "markdown",
   "metadata": {},
   "source": [
    "# combien des lignes ou colonnes dans mon dataset"
   ]
  },
  {
   "cell_type": "code",
   "execution_count": 3,
   "metadata": {},
   "outputs": [
    {
     "data": {
      "text/plain": [
       "(22215, 11)"
      ]
     },
     "execution_count": 3,
     "metadata": {},
     "output_type": "execute_result"
    }
   ],
   "source": [
    "dataset.shape"
   ]
  },
  {
   "cell_type": "markdown",
   "metadata": {},
   "source": [
    "** Ce dataset a 22215 lignes et 11 colonnes"
   ]
  },
  {
   "cell_type": "markdown",
   "metadata": {},
   "source": [
    " Affichage de 5 premières lignes du dataset"
   ]
  },
  {
   "cell_type": "code",
   "execution_count": 4,
   "metadata": {},
   "outputs": [
    {
     "data": {
      "text/html": [
       "<div>\n",
       "<style>\n",
       "    .dataframe thead tr:only-child th {\n",
       "        text-align: right;\n",
       "    }\n",
       "\n",
       "    .dataframe thead th {\n",
       "        text-align: left;\n",
       "    }\n",
       "\n",
       "    .dataframe tbody tr th {\n",
       "        vertical-align: top;\n",
       "    }\n",
       "</style>\n",
       "<table border=\"1\" class=\"dataframe\">\n",
       "  <thead>\n",
       "    <tr style=\"text-align: right;\">\n",
       "      <th></th>\n",
       "      <th>step</th>\n",
       "      <th>type</th>\n",
       "      <th>amount</th>\n",
       "      <th>nameOrig</th>\n",
       "      <th>oldbalanceOrg</th>\n",
       "      <th>newbalanceOrig</th>\n",
       "      <th>nameDest</th>\n",
       "      <th>oldbalanceDest</th>\n",
       "      <th>newbalanceDest</th>\n",
       "      <th>isFraud</th>\n",
       "      <th>isFlaggedFraud</th>\n",
       "    </tr>\n",
       "  </thead>\n",
       "  <tbody>\n",
       "    <tr>\n",
       "      <th>0</th>\n",
       "      <td>16</td>\n",
       "      <td>CASH_IN</td>\n",
       "      <td>171267.01</td>\n",
       "      <td>C342385813</td>\n",
       "      <td>91788.00</td>\n",
       "      <td>263055.01</td>\n",
       "      <td>C1326285041</td>\n",
       "      <td>130023.06</td>\n",
       "      <td>0.00</td>\n",
       "      <td>0</td>\n",
       "      <td>0</td>\n",
       "    </tr>\n",
       "    <tr>\n",
       "      <th>1</th>\n",
       "      <td>13</td>\n",
       "      <td>CASH_OUT</td>\n",
       "      <td>15149.15</td>\n",
       "      <td>C1819823204</td>\n",
       "      <td>158857.00</td>\n",
       "      <td>143707.85</td>\n",
       "      <td>C1828290290</td>\n",
       "      <td>0.00</td>\n",
       "      <td>15149.15</td>\n",
       "      <td>0</td>\n",
       "      <td>0</td>\n",
       "    </tr>\n",
       "    <tr>\n",
       "      <th>2</th>\n",
       "      <td>12</td>\n",
       "      <td>CASH_OUT</td>\n",
       "      <td>118064.98</td>\n",
       "      <td>C1030324341</td>\n",
       "      <td>2709701.00</td>\n",
       "      <td>2591636.02</td>\n",
       "      <td>C242783599</td>\n",
       "      <td>187337.43</td>\n",
       "      <td>305402.40</td>\n",
       "      <td>0</td>\n",
       "      <td>0</td>\n",
       "    </tr>\n",
       "    <tr>\n",
       "      <th>3</th>\n",
       "      <td>11</td>\n",
       "      <td>CASH_IN</td>\n",
       "      <td>122327.22</td>\n",
       "      <td>C1409524889</td>\n",
       "      <td>5297757.38</td>\n",
       "      <td>5420084.59</td>\n",
       "      <td>C1276977413</td>\n",
       "      <td>250489.72</td>\n",
       "      <td>128162.50</td>\n",
       "      <td>0</td>\n",
       "      <td>0</td>\n",
       "    </tr>\n",
       "    <tr>\n",
       "      <th>4</th>\n",
       "      <td>11</td>\n",
       "      <td>CASH_IN</td>\n",
       "      <td>129449.30</td>\n",
       "      <td>C818391416</td>\n",
       "      <td>177.00</td>\n",
       "      <td>129626.30</td>\n",
       "      <td>C189856885</td>\n",
       "      <td>261301.81</td>\n",
       "      <td>272398.17</td>\n",
       "      <td>0</td>\n",
       "      <td>0</td>\n",
       "    </tr>\n",
       "  </tbody>\n",
       "</table>\n",
       "</div>"
      ],
      "text/plain": [
       "   step      type     amount     nameOrig  oldbalanceOrg  newbalanceOrig  \\\n",
       "0    16   CASH_IN  171267.01   C342385813       91788.00       263055.01   \n",
       "1    13  CASH_OUT   15149.15  C1819823204      158857.00       143707.85   \n",
       "2    12  CASH_OUT  118064.98  C1030324341     2709701.00      2591636.02   \n",
       "3    11   CASH_IN  122327.22  C1409524889     5297757.38      5420084.59   \n",
       "4    11   CASH_IN  129449.30   C818391416         177.00       129626.30   \n",
       "\n",
       "      nameDest  oldbalanceDest  newbalanceDest  isFraud  isFlaggedFraud  \n",
       "0  C1326285041       130023.06            0.00        0               0  \n",
       "1  C1828290290            0.00        15149.15        0               0  \n",
       "2   C242783599       187337.43       305402.40        0               0  \n",
       "3  C1276977413       250489.72       128162.50        0               0  \n",
       "4   C189856885       261301.81       272398.17        0               0  "
      ]
     },
     "execution_count": 4,
     "metadata": {},
     "output_type": "execute_result"
    }
   ],
   "source": [
    "dataset.head()"
   ]
  },
  {
   "cell_type": "markdown",
   "metadata": {},
   "source": [
    "##   1_Exploration  et nettoyage des données "
   ]
  },
  {
   "cell_type": "markdown",
   "metadata": {},
   "source": [
    "\n",
    "* L'idée c'est d'avoir des données non biaisées enfin d'avoir un modele précis\n",
    "* Ma variable dependante c'est Y='isFraud' ,en fait l'exploration et le netoyage me permet de choisir les variables independantes optimales pour faire mon modèle \n",
    "* La solution de mon problème est binaire,je souhaite utiliser une regression logistique pour modeliser\n"
   ]
  },
  {
   "cell_type": "markdown",
   "metadata": {},
   "source": [
    "# Exploration"
   ]
  },
  {
   "cell_type": "markdown",
   "metadata": {},
   "source": [
    "Les différentes variables  dans le dataset"
   ]
  },
  {
   "cell_type": "code",
   "execution_count": 5,
   "metadata": {},
   "outputs": [
    {
     "name": "stdout",
     "output_type": "stream",
     "text": [
      "['step', 'type', 'amount', 'nameOrig', 'oldbalanceOrg', 'newbalanceOrig', 'nameDest', 'oldbalanceDest', 'newbalanceDest', 'isFraud', 'isFlaggedFraud']\n"
     ]
    }
   ],
   "source": [
    "print(dataset.columns.tolist())"
   ]
  },
  {
   "cell_type": "markdown",
   "metadata": {},
   "source": [
    "\n",
    "*Exist il des variables non renseignées totalement?"
   ]
  },
  {
   "cell_type": "code",
   "execution_count": 6,
   "metadata": {},
   "outputs": [
    {
     "data": {
      "text/plain": [
       "step              0\n",
       "type              0\n",
       "amount            0\n",
       "nameOrig          0\n",
       "oldbalanceOrg     0\n",
       "newbalanceOrig    0\n",
       "nameDest          0\n",
       "oldbalanceDest    0\n",
       "newbalanceDest    0\n",
       "isFraud           0\n",
       "isFlaggedFraud    0\n",
       "dtype: int64"
      ]
     },
     "execution_count": 6,
     "metadata": {},
     "output_type": "execute_result"
    }
   ],
   "source": [
    "dataset.isnull().sum()"
   ]
  },
  {
   "cell_type": "markdown",
   "metadata": {},
   "source": [
    "** Toutes les variables sont totalement renseignées, aucune valeur manquante en apparence dans le dataset"
   ]
  },
  {
   "cell_type": "code",
   "execution_count": 7,
   "metadata": {},
   "outputs": [
    {
     "data": {
      "text/html": [
       "<div>\n",
       "<style>\n",
       "    .dataframe thead tr:only-child th {\n",
       "        text-align: right;\n",
       "    }\n",
       "\n",
       "    .dataframe thead th {\n",
       "        text-align: left;\n",
       "    }\n",
       "\n",
       "    .dataframe tbody tr th {\n",
       "        vertical-align: top;\n",
       "    }\n",
       "</style>\n",
       "<table border=\"1\" class=\"dataframe\">\n",
       "  <thead>\n",
       "    <tr style=\"text-align: right;\">\n",
       "      <th></th>\n",
       "      <th>step</th>\n",
       "      <th>type</th>\n",
       "      <th>amount</th>\n",
       "      <th>nameOrig</th>\n",
       "      <th>oldbalanceOrg</th>\n",
       "      <th>newbalanceOrig</th>\n",
       "      <th>nameDest</th>\n",
       "      <th>oldbalanceDest</th>\n",
       "      <th>newbalanceDest</th>\n",
       "      <th>isFraud</th>\n",
       "      <th>isFlaggedFraud</th>\n",
       "    </tr>\n",
       "  </thead>\n",
       "  <tbody>\n",
       "    <tr>\n",
       "      <th>7</th>\n",
       "      <td>14</td>\n",
       "      <td>PAYMENT</td>\n",
       "      <td>5467.13</td>\n",
       "      <td>C1791489057</td>\n",
       "      <td>315.0</td>\n",
       "      <td>0.0</td>\n",
       "      <td>M1116606077</td>\n",
       "      <td>0.0</td>\n",
       "      <td>0.0</td>\n",
       "      <td>0</td>\n",
       "      <td>0</td>\n",
       "    </tr>\n",
       "    <tr>\n",
       "      <th>13</th>\n",
       "      <td>37</td>\n",
       "      <td>PAYMENT</td>\n",
       "      <td>8513.52</td>\n",
       "      <td>C782687583</td>\n",
       "      <td>0.0</td>\n",
       "      <td>0.0</td>\n",
       "      <td>M1973432380</td>\n",
       "      <td>0.0</td>\n",
       "      <td>0.0</td>\n",
       "      <td>0</td>\n",
       "      <td>0</td>\n",
       "    </tr>\n",
       "    <tr>\n",
       "      <th>16</th>\n",
       "      <td>41</td>\n",
       "      <td>PAYMENT</td>\n",
       "      <td>6863.64</td>\n",
       "      <td>C96771120</td>\n",
       "      <td>0.0</td>\n",
       "      <td>0.0</td>\n",
       "      <td>M1646603109</td>\n",
       "      <td>0.0</td>\n",
       "      <td>0.0</td>\n",
       "      <td>0</td>\n",
       "      <td>0</td>\n",
       "    </tr>\n",
       "    <tr>\n",
       "      <th>24</th>\n",
       "      <td>14</td>\n",
       "      <td>PAYMENT</td>\n",
       "      <td>19518.73</td>\n",
       "      <td>C895693375</td>\n",
       "      <td>0.0</td>\n",
       "      <td>0.0</td>\n",
       "      <td>M1041981071</td>\n",
       "      <td>0.0</td>\n",
       "      <td>0.0</td>\n",
       "      <td>0</td>\n",
       "      <td>0</td>\n",
       "    </tr>\n",
       "    <tr>\n",
       "      <th>26</th>\n",
       "      <td>12</td>\n",
       "      <td>PAYMENT</td>\n",
       "      <td>5103.98</td>\n",
       "      <td>C1208836079</td>\n",
       "      <td>0.0</td>\n",
       "      <td>0.0</td>\n",
       "      <td>M1692038307</td>\n",
       "      <td>0.0</td>\n",
       "      <td>0.0</td>\n",
       "      <td>0</td>\n",
       "      <td>0</td>\n",
       "    </tr>\n",
       "  </tbody>\n",
       "</table>\n",
       "</div>"
      ],
      "text/plain": [
       "    step     type    amount     nameOrig  oldbalanceOrg  newbalanceOrig  \\\n",
       "7     14  PAYMENT   5467.13  C1791489057          315.0             0.0   \n",
       "13    37  PAYMENT   8513.52   C782687583            0.0             0.0   \n",
       "16    41  PAYMENT   6863.64    C96771120            0.0             0.0   \n",
       "24    14  PAYMENT  19518.73   C895693375            0.0             0.0   \n",
       "26    12  PAYMENT   5103.98  C1208836079            0.0             0.0   \n",
       "\n",
       "       nameDest  oldbalanceDest  newbalanceDest  isFraud  isFlaggedFraud  \n",
       "7   M1116606077             0.0             0.0        0               0  \n",
       "13  M1973432380             0.0             0.0        0               0  \n",
       "16  M1646603109             0.0             0.0        0               0  \n",
       "24  M1041981071             0.0             0.0        0               0  \n",
       "26  M1692038307             0.0             0.0        0               0  "
      ]
     },
     "execution_count": 7,
     "metadata": {},
     "output_type": "execute_result"
    }
   ],
   "source": [
    "dataset[(dataset['nameDest'].str.startswith('M'))].head()"
   ]
  },
  {
   "cell_type": "markdown",
   "metadata": {},
   "source": [
    "# Mon dataset est vraiment bien rempli malgré l'absence de 'NaN'?"
   ]
  },
  {
   "cell_type": "code",
   "execution_count": 8,
   "metadata": {},
   "outputs": [
    {
     "data": {
      "text/plain": [
       "(0, 11)"
      ]
     },
     "execution_count": 8,
     "metadata": {},
     "output_type": "execute_result"
    }
   ],
   "source": [
    "dataset[(dataset['nameDest'].str.startswith('M')&dataset['oldbalanceDest']!=0)\\\n",
    "        |(dataset['nameDest'].str.startswith('M')&dataset['newbalanceDest']!=0)].shape"
   ]
  },
  {
   "cell_type": "markdown",
   "metadata": {},
   "source": [
    "* le resultat du code precedent nous montre bien qu'aucune transaction ayant le nom du destinateur commençant par M est \n",
    " renseigné sur les colonnes 'oldbalanceDest' et 'newbalanceDest', les valeurs manquantes sont donc remplacées par les \"0\".\n",
    " Mon dataset n'est pas correctement renseigné*"
   ]
  },
  {
   "cell_type": "code",
   "execution_count": null,
   "metadata": {
    "collapsed": true
   },
   "outputs": [],
   "source": []
  },
  {
   "cell_type": "code",
   "execution_count": null,
   "metadata": {
    "collapsed": true
   },
   "outputs": [],
   "source": []
  },
  {
   "cell_type": "markdown",
   "metadata": {},
   "source": [
    "# La variable 'isFlaggedFraud' peut elle etre  reprensatative  de notre modele?"
   ]
  },
  {
   "cell_type": "code",
   "execution_count": 9,
   "metadata": {},
   "outputs": [
    {
     "data": {
      "text/plain": [
       "(0, 11)"
      ]
     },
     "execution_count": 9,
     "metadata": {},
     "output_type": "execute_result"
    }
   ],
   "source": [
    "#  cette variable possède des valeurs différentes de '0'?\n",
    "dataset[dataset['isFlaggedFraud']!=0].shape"
   ]
  },
  {
   "cell_type": "markdown",
   "metadata": {},
   "source": [
    "*  la ligne de code precedente montre bien que toutes les valeurs de la variable 'isFlaggedFraud'\n",
    "sont nulles, chose étonnante car au dela d'une certaine somme la transaction devrait etre illegal.\n",
    "* fraude ou pas cette valeur est la meme , chose anormale\n",
    "* cette valeur ne peut pas etre  representative du modèle"
   ]
  },
  {
   "cell_type": "code",
   "execution_count": null,
   "metadata": {
    "collapsed": true
   },
   "outputs": [],
   "source": []
  },
  {
   "cell_type": "markdown",
   "metadata": {},
   "source": [
    "# Nombre de transaction par type "
   ]
  },
  {
   "cell_type": "code",
   "execution_count": 10,
   "metadata": {},
   "outputs": [
    {
     "data": {
      "text/plain": [
       "CASH_OUT    8261\n",
       "PAYMENT     6859\n",
       "CASH_IN     4576\n",
       "TRANSFER    2379\n",
       "DEBIT        140\n",
       "Name: type, dtype: int64"
      ]
     },
     "execution_count": 10,
     "metadata": {},
     "output_type": "execute_result"
    }
   ],
   "source": [
    "#nombre de transaction\n",
    "dataset['type'].value_counts()\n"
   ]
  },
  {
   "cell_type": "code",
   "execution_count": 11,
   "metadata": {},
   "outputs": [
    {
     "data": {
      "text/plain": [
       "<matplotlib.axes._subplots.AxesSubplot at 0x1b1ca7db4a8>"
      ]
     },
     "execution_count": 11,
     "metadata": {},
     "output_type": "execute_result"
    },
    {
     "data": {
      "image/png": "[encoded data removed]",
      "text/plain": [
       "<matplotlib.figure.Figure at 0x1b1ca7dbb00>"
      ]
     },
     "metadata": {},
     "output_type": "display_data"
    }
   ],
   "source": [
    "#representation du nombre de transaction par type de transaction\n",
    "sns.countplot(x='type',data=dataset,palette='hls')\n"
   ]
  },
  {
   "cell_type": "markdown",
   "metadata": {},
   "source": [
    "# Quels types de transaction sont concernés par les fraudes ?"
   ]
  },
  {
   "cell_type": "code",
   "execution_count": 12,
   "metadata": {
    "collapsed": true
   },
   "outputs": [],
   "source": [
    "fraude=dataset[dataset['isFraud']==1]\n",
    "pas_de_fraude=dataset[dataset['isFraud']!=1]"
   ]
  },
  {
   "cell_type": "code",
   "execution_count": 13,
   "metadata": {},
   "outputs": [
    {
     "data": {
      "text/plain": [
       "<matplotlib.axes._subplots.AxesSubplot at 0x1b1ca8c0b00>"
      ]
     },
     "execution_count": 13,
     "metadata": {},
     "output_type": "execute_result"
    },
    {
     "data": {
      "image/png": "[encoded data removed]",
      "text/plain": [
       "<matplotlib.figure.Figure at 0x1b1ca895898>"
      ]
     },
     "metadata": {},
     "output_type": "display_data"
    }
   ],
   "source": [
    "sns.countplot(x='type',data=fraude,palette='hls')\n"
   ]
  },
  {
   "cell_type": "markdown",
   "metadata": {
    "collapsed": true
   },
   "source": [
    "* Ce qui precède nous montre bien que les transactions fraudileuses sont exclusivement soit de type:'TRANSFER' ou 'CASH_OUT' par conséquent\n",
    "    notre modèle sera basé que sur ces deux types de transactions"
   ]
  },
  {
   "cell_type": "code",
   "execution_count": 14,
   "metadata": {
    "collapsed": true
   },
   "outputs": [],
   "source": [
    "#dataset['isFraud'].value_counts()"
   ]
  },
  {
   "cell_type": "markdown",
   "metadata": {},
   "source": [
    "\n"
   ]
  },
  {
   "cell_type": "code",
   "execution_count": null,
   "metadata": {
    "collapsed": true
   },
   "outputs": [],
   "source": []
  },
  {
   "cell_type": "markdown",
   "metadata": {},
   "source": [
    "# Nettoyage"
   ]
  },
  {
   "cell_type": "markdown",
   "metadata": {},
   "source": [
    "# Voici en resumé ce que l'exploration des données nous a montré\n",
    "\n",
    "* les fraudes ne sont concernées exclusivement que par deux types :\n",
    "    par transert(TRANSFERT) ou par retrait en espèces(CASH_OUT)\n",
    "\n",
    "\n",
    "* Aucune transaction ayant le nom du destinateur commençant par M est renseigné sur les colonnes 'oldbalanceDest' et 'newbalanceDest', les valeurs manquantes sont donc remplacées par les \"0\". Mon dataset n'est pas correctement renseigné\n",
    "\n",
    "\n",
    "* La variable 'isFlaggedFraud'  ne peut pas etre  representative du modèle"
   ]
  },
  {
   "cell_type": "code",
   "execution_count": 15,
   "metadata": {
    "scrolled": true
   },
   "outputs": [
    {
     "data": {
      "text/plain": [
       "(10640, 11)"
      ]
     },
     "execution_count": 15,
     "metadata": {},
     "output_type": "execute_result"
    }
   ],
   "source": [
    "# le type de notre modele est soit un tranfert ou retrait, on supprime les variables non représentatives\n",
    "# Dans notre nouveau dataFrame on ne garde que les transactions de type 'TRANSFER' ou 'CASH_OUT'\n",
    "dat=dataset.loc[(dataset.type=='TRANSFER')|(dataset.type=='CASH_OUT')]\n",
    "dat.shape\n"
   ]
  },
  {
   "cell_type": "markdown",
   "metadata": {},
   "source": [
    "# Exploitation des valeurs manquantes"
   ]
  },
  {
   "cell_type": "markdown",
   "metadata": {},
   "source": [
    " Nous avons supposé comme valeurs manquantes les deux cas suivants:\n",
    "* debit avant=0, debit après=0 et le montant de transaction différent de 0\n",
    "* credit avant=0, credit après=0 et le montant de transaction différent de 0"
   ]
  },
  {
   "cell_type": "code",
   "execution_count": 16,
   "metadata": {},
   "outputs": [
    {
     "name": "stdout",
     "output_type": "stream",
     "text": [
      "il ya  1372 transactions fraudileuses\n",
      "il ya  9268 transactions non fraudileuses\n"
     ]
    }
   ],
   "source": [
    "# On separe le nouveau dataFrame en dataFrame(fraude) et (sans fraude)\n",
    "xfraude=dat[dat['isFraud']==1]\n",
    "xpas_de_fraude=dat[dat['isFraud']!=1]\n",
    "\n",
    "# nombre de transactions fraudileuses\n",
    "print('il ya ',xfraude.shape[0],'transactions fraudileuses')\n",
    "# nombre de transactions non fraudileuses\n",
    "print('il ya ',xpas_de_fraude.shape[0],'transactions non fraudileuses')\n"
   ]
  },
  {
   "cell_type": "markdown",
   "metadata": {},
   "source": [
    "* Pourcentage des valeurs manquantes dans les transactions frauduleuses"
   ]
  },
  {
   "cell_type": "code",
   "execution_count": 17,
   "metadata": {},
   "outputs": [
    {
     "name": "stdout",
     "output_type": "stream",
     "text": [
      "Dans les transactions frauduleuses les comptes debiteurs representent 1.97 % des valeurs manquantes\n",
      "alors que les comptes créditeurs representent 46.87 % des valeurs manquantes\n"
     ]
    }
   ],
   "source": [
    "credit=fraude.loc[(fraude.oldbalanceDest == 0) & (fraude.newbalanceDest == 0) & (fraude.amount != 0)].shape[0]\n",
    "debit=fraude.loc[(fraude.oldbalanceOrg == 0) & (fraude.newbalanceOrig == 0) & (fraude.amount != 0)].shape[0]\n",
    "# pourcentage des valeurs manquantes dans les transactions frauduleuses cotés debiteurs\n",
    "debit_manquant_pourcent=100*debit/xfraude.shape[0]\n",
    "print('Dans les transactions frauduleuses les comptes debiteurs representent'\\\n",
    "      ,round(debit_manquant_pourcent,2),'%','des valeurs manquantes')\n",
    "# pourcentage des valeurs manquantes dans les transactions frauduleuses cotés créditeurs\n",
    "credit_manquant_pourcent=100*credit/xfraude.shape[0]\n",
    "print('alors que les comptes créditeurs representent',round(credit_manquant_pourcent,2),'%','des valeurs manquantes')"
   ]
  },
  {
   "cell_type": "markdown",
   "metadata": {},
   "source": [
    "* Pourcentage des valeurs manquantes dans les transactions non frauduleuses"
   ]
  },
  {
   "cell_type": "code",
   "execution_count": 18,
   "metadata": {},
   "outputs": [
    {
     "name": "stdout",
     "output_type": "stream",
     "text": [
      "Dans les transactions non frauduleuses les comptes debiteurs representent 47.19 % des valeurs manquantes\n",
      "alors que les comptes créditeurs representent 0.18 % des valeurs manquantes\n"
     ]
    }
   ],
   "source": [
    "deb=xpas_de_fraude.loc[(xpas_de_fraude.oldbalanceOrg == 0)\\\n",
    "                   & (xpas_de_fraude.newbalanceOrig == 0)\\\n",
    "                   & (xpas_de_fraude.amount != 0) ].shape[0]  \n",
    "cred=xpas_de_fraude.loc[(xpas_de_fraude.oldbalanceDest == 0)\\\n",
    "                   & (xpas_de_fraude.newbalanceDest == 0)\\\n",
    "                   & (xpas_de_fraude.amount != 0) ].shape[0]  \n",
    "\n",
    "\n",
    "# pourcentage des valeurs manquantes dans les transactions non frauduleuses cotés debiteurs\n",
    "deb_manquant_pourcent=100*deb/xpas_de_fraude.shape[0]\n",
    "print('Dans les transactions non frauduleuses les comptes debiteurs representent',\\\n",
    "      round(deb_manquant_pourcent,2),'%','des valeurs manquantes')\n",
    "# pourcentage des valeurs manquantes dans les transactions non frauduleuses cotés créditeurs\n",
    "cred_manquant_pourcent=100*cred/xpas_de_fraude.shape[0]\n",
    "print('alors que les comptes créditeurs representent',round(cred_manquant_pourcent,2),'%','des valeurs manquantes')"
   ]
  },
  {
   "cell_type": "markdown",
   "metadata": {},
   "source": [
    "* Le resultat précedent nous montre que le traitement des valeurs manquantes dependra des comptes debiteurs ou crediteurs et selon que la transaction soit fraudileuse ou non"
   ]
  },
  {
   "cell_type": "code",
   "execution_count": 19,
   "metadata": {},
   "outputs": [
    {
     "name": "stderr",
     "output_type": "stream",
     "text": [
      "C:\\Users\\CHRISTIAN NGOKIO\\AppData\\Local\\Continuum\\anaconda3\\lib\\site-packages\\ipykernel_launcher.py:2: SettingWithCopyWarning: \n",
      "A value is trying to be set on a copy of a slice from a DataFrame\n",
      "\n",
      "See the caveats in the documentation: http://pandas.pydata.org/pandas-docs/stable/indexing.html#indexing-view-versus-copy\n",
      "  \n"
     ]
    },
    {
     "data": {
      "text/html": [
       "<div>\n",
       "<style>\n",
       "    .dataframe thead tr:only-child th {\n",
       "        text-align: right;\n",
       "    }\n",
       "\n",
       "    .dataframe thead th {\n",
       "        text-align: left;\n",
       "    }\n",
       "\n",
       "    .dataframe tbody tr th {\n",
       "        vertical-align: top;\n",
       "    }\n",
       "</style>\n",
       "<table border=\"1\" class=\"dataframe\">\n",
       "  <thead>\n",
       "    <tr style=\"text-align: right;\">\n",
       "      <th></th>\n",
       "      <th>type</th>\n",
       "      <th>amount</th>\n",
       "      <th>oldbalanceOrg</th>\n",
       "      <th>newbalanceOrig</th>\n",
       "      <th>oldbalanceDest</th>\n",
       "      <th>newbalanceDest</th>\n",
       "      <th>isFraud</th>\n",
       "    </tr>\n",
       "  </thead>\n",
       "  <tbody>\n",
       "    <tr>\n",
       "      <th>1</th>\n",
       "      <td>CASH_OUT</td>\n",
       "      <td>15149.15</td>\n",
       "      <td>158857.0</td>\n",
       "      <td>143707.85</td>\n",
       "      <td>0.00</td>\n",
       "      <td>15149.15</td>\n",
       "      <td>0</td>\n",
       "    </tr>\n",
       "    <tr>\n",
       "      <th>2</th>\n",
       "      <td>CASH_OUT</td>\n",
       "      <td>118064.98</td>\n",
       "      <td>2709701.0</td>\n",
       "      <td>2591636.02</td>\n",
       "      <td>187337.43</td>\n",
       "      <td>305402.40</td>\n",
       "      <td>0</td>\n",
       "    </tr>\n",
       "    <tr>\n",
       "      <th>5</th>\n",
       "      <td>CASH_OUT</td>\n",
       "      <td>109365.10</td>\n",
       "      <td>0.0</td>\n",
       "      <td>0.00</td>\n",
       "      <td>207150.29</td>\n",
       "      <td>520523.85</td>\n",
       "      <td>0</td>\n",
       "    </tr>\n",
       "    <tr>\n",
       "      <th>8</th>\n",
       "      <td>TRANSFER</td>\n",
       "      <td>116959.85</td>\n",
       "      <td>0.0</td>\n",
       "      <td>0.00</td>\n",
       "      <td>550850.91</td>\n",
       "      <td>667810.76</td>\n",
       "      <td>0</td>\n",
       "    </tr>\n",
       "    <tr>\n",
       "      <th>10</th>\n",
       "      <td>CASH_OUT</td>\n",
       "      <td>336447.70</td>\n",
       "      <td>291.0</td>\n",
       "      <td>0.00</td>\n",
       "      <td>0.00</td>\n",
       "      <td>336447.70</td>\n",
       "      <td>0</td>\n",
       "    </tr>\n",
       "  </tbody>\n",
       "</table>\n",
       "</div>"
      ],
      "text/plain": [
       "        type     amount  oldbalanceOrg  newbalanceOrig  oldbalanceDest  \\\n",
       "1   CASH_OUT   15149.15       158857.0       143707.85            0.00   \n",
       "2   CASH_OUT  118064.98      2709701.0      2591636.02       187337.43   \n",
       "5   CASH_OUT  109365.10            0.0            0.00       207150.29   \n",
       "8   TRANSFER  116959.85            0.0            0.00       550850.91   \n",
       "10  CASH_OUT  336447.70          291.0            0.00            0.00   \n",
       "\n",
       "    newbalanceDest  isFraud  \n",
       "1         15149.15        0  \n",
       "2        305402.40        0  \n",
       "5        520523.85        0  \n",
       "8        667810.76        0  \n",
       "10       336447.70        0  "
      ]
     },
     "execution_count": 19,
     "metadata": {},
     "output_type": "execute_result"
    }
   ],
   "source": [
    "# supprimons les variables peu representatives\n",
    "dat.drop(['step', 'nameOrig','isFlaggedFraud','nameDest'],1,inplace=True)\n",
    "dat.head()"
   ]
  },
  {
   "cell_type": "markdown",
   "metadata": {},
   "source": []
  },
  {
   "cell_type": "markdown",
   "metadata": {},
   "source": [
    "\"\"\" Transformation des valeurs de la variable type en 1 et 0\n",
    "    pas besoin d'utiliser le module sklearn car\n",
    "    on peut le faire directement \"\"\"\n",
    "\n"
   ]
  },
  {
   "cell_type": "code",
   "execution_count": 20,
   "metadata": {},
   "outputs": [
    {
     "name": "stderr",
     "output_type": "stream",
     "text": [
      "C:\\Users\\CHRISTIAN NGOKIO\\AppData\\Local\\Continuum\\anaconda3\\lib\\site-packages\\ipykernel_launcher.py:1: SettingWithCopyWarning: \n",
      "A value is trying to be set on a copy of a slice from a DataFrame.\n",
      "Try using .loc[row_indexer,col_indexer] = value instead\n",
      "\n",
      "See the caveats in the documentation: http://pandas.pydata.org/pandas-docs/stable/indexing.html#indexing-view-versus-copy\n",
      "  \"\"\"Entry point for launching an IPython kernel.\n"
     ]
    },
    {
     "data": {
      "text/html": [
       "<div>\n",
       "<style>\n",
       "    .dataframe thead tr:only-child th {\n",
       "        text-align: right;\n",
       "    }\n",
       "\n",
       "    .dataframe thead th {\n",
       "        text-align: left;\n",
       "    }\n",
       "\n",
       "    .dataframe tbody tr th {\n",
       "        vertical-align: top;\n",
       "    }\n",
       "</style>\n",
       "<table border=\"1\" class=\"dataframe\">\n",
       "  <thead>\n",
       "    <tr style=\"text-align: right;\">\n",
       "      <th></th>\n",
       "      <th>type</th>\n",
       "      <th>amount</th>\n",
       "      <th>oldbalanceOrg</th>\n",
       "      <th>newbalanceOrig</th>\n",
       "      <th>oldbalanceDest</th>\n",
       "      <th>newbalanceDest</th>\n",
       "      <th>isFraud</th>\n",
       "    </tr>\n",
       "  </thead>\n",
       "  <tbody>\n",
       "    <tr>\n",
       "      <th>0</th>\n",
       "      <td>0</td>\n",
       "      <td>15149.15</td>\n",
       "      <td>158857.0</td>\n",
       "      <td>143707.85</td>\n",
       "      <td>0.00</td>\n",
       "      <td>15149.15</td>\n",
       "      <td>0</td>\n",
       "    </tr>\n",
       "    <tr>\n",
       "      <th>1</th>\n",
       "      <td>0</td>\n",
       "      <td>118064.98</td>\n",
       "      <td>2709701.0</td>\n",
       "      <td>2591636.02</td>\n",
       "      <td>187337.43</td>\n",
       "      <td>305402.40</td>\n",
       "      <td>0</td>\n",
       "    </tr>\n",
       "    <tr>\n",
       "      <th>2</th>\n",
       "      <td>0</td>\n",
       "      <td>109365.10</td>\n",
       "      <td>0.0</td>\n",
       "      <td>0.00</td>\n",
       "      <td>207150.29</td>\n",
       "      <td>520523.85</td>\n",
       "      <td>0</td>\n",
       "    </tr>\n",
       "    <tr>\n",
       "      <th>3</th>\n",
       "      <td>1</td>\n",
       "      <td>116959.85</td>\n",
       "      <td>0.0</td>\n",
       "      <td>0.00</td>\n",
       "      <td>550850.91</td>\n",
       "      <td>667810.76</td>\n",
       "      <td>0</td>\n",
       "    </tr>\n",
       "    <tr>\n",
       "      <th>4</th>\n",
       "      <td>0</td>\n",
       "      <td>336447.70</td>\n",
       "      <td>291.0</td>\n",
       "      <td>0.00</td>\n",
       "      <td>0.00</td>\n",
       "      <td>336447.70</td>\n",
       "      <td>0</td>\n",
       "    </tr>\n",
       "  </tbody>\n",
       "</table>\n",
       "</div>"
      ],
      "text/plain": [
       "   type     amount  oldbalanceOrg  newbalanceOrig  oldbalanceDest  \\\n",
       "0     0   15149.15       158857.0       143707.85            0.00   \n",
       "1     0  118064.98      2709701.0      2591636.02       187337.43   \n",
       "2     0  109365.10            0.0            0.00       207150.29   \n",
       "3     1  116959.85            0.0            0.00       550850.91   \n",
       "4     0  336447.70          291.0            0.00            0.00   \n",
       "\n",
       "   newbalanceDest  isFraud  \n",
       "0        15149.15        0  \n",
       "1       305402.40        0  \n",
       "2       520523.85        0  \n",
       "3       667810.76        0  \n",
       "4       336447.70        0  "
      ]
     },
     "execution_count": 20,
     "metadata": {},
     "output_type": "execute_result"
    }
   ],
   "source": [
    "dat['type'] = np.where(dat['type'] == 'TRANSFER', 1, 0)\n",
    "dat = dat.reset_index(drop=True)\n",
    "dat.head()"
   ]
  },
  {
   "cell_type": "markdown",
   "metadata": {},
   "source": [
    " Traitement des valeurs manquantes\n",
    "    "
   ]
  },
  {
   "cell_type": "code",
   "execution_count": 21,
   "metadata": {
    "collapsed": true
   },
   "outputs": [],
   "source": [
    "\"\"\"\n",
    "Les valeurs manquantes credits on le remplace par -1 car il y avait plus des transactions frauduleuses qui avaient des valeurs \n",
    "manquantes pour les comptes crédits, cela permet à l'algorithme de differencier\n",
    "\"\"\"\n",
    "dat.loc[(dat.oldbalanceDest == 0) & (dat.newbalanceDest == 0) & (dat.amount != 0), \\\n",
    "      ['oldbalanceDest', 'newbalanceDest']] = - 1"
   ]
  },
  {
   "cell_type": "code",
   "execution_count": null,
   "metadata": {
    "collapsed": true
   },
   "outputs": [],
   "source": []
  },
  {
   "cell_type": "code",
   "execution_count": 22,
   "metadata": {},
   "outputs": [
    {
     "data": {
      "text/html": [
       "<div>\n",
       "<style>\n",
       "    .dataframe thead tr:only-child th {\n",
       "        text-align: right;\n",
       "    }\n",
       "\n",
       "    .dataframe thead th {\n",
       "        text-align: left;\n",
       "    }\n",
       "\n",
       "    .dataframe tbody tr th {\n",
       "        vertical-align: top;\n",
       "    }\n",
       "</style>\n",
       "<table border=\"1\" class=\"dataframe\">\n",
       "  <thead>\n",
       "    <tr style=\"text-align: right;\">\n",
       "      <th></th>\n",
       "      <th>type</th>\n",
       "      <th>amount</th>\n",
       "      <th>oldbalanceOrg</th>\n",
       "      <th>newbalanceOrig</th>\n",
       "      <th>oldbalanceDest</th>\n",
       "      <th>newbalanceDest</th>\n",
       "      <th>isFraud</th>\n",
       "    </tr>\n",
       "  </thead>\n",
       "  <tbody>\n",
       "    <tr>\n",
       "      <th>0</th>\n",
       "      <td>0</td>\n",
       "      <td>15149.15</td>\n",
       "      <td>158857.0</td>\n",
       "      <td>143707.85</td>\n",
       "      <td>0.00</td>\n",
       "      <td>15149.15</td>\n",
       "      <td>0</td>\n",
       "    </tr>\n",
       "    <tr>\n",
       "      <th>1</th>\n",
       "      <td>0</td>\n",
       "      <td>118064.98</td>\n",
       "      <td>2709701.0</td>\n",
       "      <td>2591636.02</td>\n",
       "      <td>187337.43</td>\n",
       "      <td>305402.40</td>\n",
       "      <td>0</td>\n",
       "    </tr>\n",
       "    <tr>\n",
       "      <th>2</th>\n",
       "      <td>0</td>\n",
       "      <td>109365.10</td>\n",
       "      <td>41676.0</td>\n",
       "      <td>0.00</td>\n",
       "      <td>207150.29</td>\n",
       "      <td>520523.85</td>\n",
       "      <td>0</td>\n",
       "    </tr>\n",
       "    <tr>\n",
       "      <th>3</th>\n",
       "      <td>1</td>\n",
       "      <td>116959.85</td>\n",
       "      <td>41676.0</td>\n",
       "      <td>0.00</td>\n",
       "      <td>550850.91</td>\n",
       "      <td>667810.76</td>\n",
       "      <td>0</td>\n",
       "    </tr>\n",
       "    <tr>\n",
       "      <th>4</th>\n",
       "      <td>0</td>\n",
       "      <td>336447.70</td>\n",
       "      <td>291.0</td>\n",
       "      <td>0.00</td>\n",
       "      <td>0.00</td>\n",
       "      <td>336447.70</td>\n",
       "      <td>0</td>\n",
       "    </tr>\n",
       "  </tbody>\n",
       "</table>\n",
       "</div>"
      ],
      "text/plain": [
       "   type     amount  oldbalanceOrg  newbalanceOrig  oldbalanceDest  \\\n",
       "0     0   15149.15       158857.0       143707.85            0.00   \n",
       "1     0  118064.98      2709701.0      2591636.02       187337.43   \n",
       "2     0  109365.10        41676.0            0.00       207150.29   \n",
       "3     1  116959.85        41676.0            0.00       550850.91   \n",
       "4     0  336447.70          291.0            0.00            0.00   \n",
       "\n",
       "   newbalanceDest  isFraud  \n",
       "0        15149.15        0  \n",
       "1       305402.40        0  \n",
       "2       520523.85        0  \n",
       "3       667810.76        0  \n",
       "4       336447.70        0  "
      ]
     },
     "execution_count": 22,
     "metadata": {},
     "output_type": "execute_result"
    }
   ],
   "source": [
    "#Les valeurs manquantes debits on le remplace par 'NaN'\n",
    "dat.loc[(dat.oldbalanceOrg == 0) & (dat.newbalanceOrig == 0) & (dat.amount != 0), \\\n",
    "      ['oldbalanceOrg', 'newbalanceOrig']] = np.nan\n",
    "# les 'NaN' sont à leur tour remplacées par les valeurs medianes\n",
    "dat[['oldbalanceOrg','newbalanceOrig']]=dat[['oldbalanceOrg','newbalanceOrig']].fillna(dat.median())\n",
    "dat.head()"
   ]
  },
  {
   "cell_type": "markdown",
   "metadata": {},
   "source": [
    "# Après nettoyage et traitement des valeurs manquantes,je vérifie si mes variables explicatives sont independantes entre elles"
   ]
  },
  {
   "cell_type": "code",
   "execution_count": 23,
   "metadata": {},
   "outputs": [
    {
     "data": {
      "text/plain": [
       "<matplotlib.axes._subplots.AxesSubplot at 0x1b1c97ca710>"
      ]
     },
     "execution_count": 23,
     "metadata": {},
     "output_type": "execute_result"
    },
    {
     "data": {
      "image/png": "[encoded data removed]",
      "text/plain": [
       "<matplotlib.figure.Figure at 0x1b1c96384e0>"
      ]
     },
     "metadata": {},
     "output_type": "display_data"
    }
   ],
   "source": [
    "# affichage des corrélations entre variables\n",
    "f, ax = plt.subplots(figsize=(12, 12))\n",
    "plt.title('Correlation entre variables ')\n",
    "sns.heatmap(dat.corr(),linewidths=0.25,vmax=1.0, square=True, cmap=\"YlGnBu\", linecolor='black', annot=True)"
   ]
  },
  {
   "cell_type": "markdown",
   "metadata": {},
   "source": [
    "* iL ya une très forte correlation entre oldbalanceOrg et amount  d'une part et oldbalanceDest et newbalanceDest    d'autre part.\n",
    "\n",
    "* On ne peut pas faire un modèle avec des variables qui ne sont pas independantes\n",
    "\n",
    "* Nous allons créer deux variables qui seront chacune une combinaison lineaire de chaque deux variables corréelées et du montant de la transaction"
   ]
  },
  {
   "cell_type": "code",
   "execution_count": 24,
   "metadata": {
    "collapsed": true
   },
   "outputs": [],
   "source": [
    "d_model=pd.DataFrame(dat)"
   ]
  },
  {
   "cell_type": "code",
   "execution_count": 25,
   "metadata": {
    "scrolled": true
   },
   "outputs": [
    {
     "data": {
      "text/html": [
       "<div>\n",
       "<style>\n",
       "    .dataframe thead tr:only-child th {\n",
       "        text-align: right;\n",
       "    }\n",
       "\n",
       "    .dataframe thead th {\n",
       "        text-align: left;\n",
       "    }\n",
       "\n",
       "    .dataframe tbody tr th {\n",
       "        vertical-align: top;\n",
       "    }\n",
       "</style>\n",
       "<table border=\"1\" class=\"dataframe\">\n",
       "  <thead>\n",
       "    <tr style=\"text-align: right;\">\n",
       "      <th></th>\n",
       "      <th>type</th>\n",
       "      <th>amount</th>\n",
       "      <th>balanceSender</th>\n",
       "      <th>balanceReceiver</th>\n",
       "      <th>isFraud</th>\n",
       "      <th>errorBalanceSender</th>\n",
       "      <th>errorBalanceReceiver</th>\n",
       "      <th>noErrors</th>\n",
       "    </tr>\n",
       "  </thead>\n",
       "  <tbody>\n",
       "    <tr>\n",
       "      <th>0</th>\n",
       "      <td>0</td>\n",
       "      <td>15149.15</td>\n",
       "      <td>143707.85</td>\n",
       "      <td>15149.15</td>\n",
       "      <td>0</td>\n",
       "      <td>0.00</td>\n",
       "      <td>0.00</td>\n",
       "      <td>1</td>\n",
       "    </tr>\n",
       "    <tr>\n",
       "      <th>1</th>\n",
       "      <td>0</td>\n",
       "      <td>118064.98</td>\n",
       "      <td>2591636.02</td>\n",
       "      <td>305402.40</td>\n",
       "      <td>0</td>\n",
       "      <td>0.00</td>\n",
       "      <td>0.01</td>\n",
       "      <td>0</td>\n",
       "    </tr>\n",
       "    <tr>\n",
       "      <th>2</th>\n",
       "      <td>0</td>\n",
       "      <td>109365.10</td>\n",
       "      <td>0.00</td>\n",
       "      <td>520523.85</td>\n",
       "      <td>0</td>\n",
       "      <td>-67689.10</td>\n",
       "      <td>-204008.46</td>\n",
       "      <td>0</td>\n",
       "    </tr>\n",
       "    <tr>\n",
       "      <th>3</th>\n",
       "      <td>1</td>\n",
       "      <td>116959.85</td>\n",
       "      <td>0.00</td>\n",
       "      <td>667810.76</td>\n",
       "      <td>0</td>\n",
       "      <td>-75283.85</td>\n",
       "      <td>0.00</td>\n",
       "      <td>0</td>\n",
       "    </tr>\n",
       "    <tr>\n",
       "      <th>4</th>\n",
       "      <td>0</td>\n",
       "      <td>336447.70</td>\n",
       "      <td>0.00</td>\n",
       "      <td>336447.70</td>\n",
       "      <td>0</td>\n",
       "      <td>-336156.70</td>\n",
       "      <td>0.00</td>\n",
       "      <td>0</td>\n",
       "    </tr>\n",
       "  </tbody>\n",
       "</table>\n",
       "</div>"
      ],
      "text/plain": [
       "   type     amount  balanceSender  balanceReceiver  isFraud  \\\n",
       "0     0   15149.15      143707.85         15149.15        0   \n",
       "1     0  118064.98     2591636.02        305402.40        0   \n",
       "2     0  109365.10           0.00        520523.85        0   \n",
       "3     1  116959.85           0.00        667810.76        0   \n",
       "4     0  336447.70           0.00        336447.70        0   \n",
       "\n",
       "   errorBalanceSender  errorBalanceReceiver  noErrors  \n",
       "0                0.00                  0.00         1  \n",
       "1                0.00                  0.01         0  \n",
       "2           -67689.10            -204008.46         0  \n",
       "3           -75283.85                  0.00         0  \n",
       "4          -336156.70                  0.00         0  "
      ]
     },
     "execution_count": 25,
     "metadata": {},
     "output_type": "execute_result"
    }
   ],
   "source": [
    "\n",
    "d_model['errorBalanceSender'] = d_model.oldbalanceOrg  -d_model.amount - d_model.newbalanceOrig\n",
    "d_model['errorBalanceReceiver'] = d_model.oldbalanceDest + d_model.amount - d_model.newbalanceDest\n",
    "d_model.drop(['oldbalanceOrg', 'oldbalanceDest'], 1, inplace=True)\n",
    "d_model = d_model.rename(columns={'newbalanceOrig':'balanceSender', 'newbalanceDest':'balanceReceiver'})\n",
    "d_model['noErrors'] = np.where((d_model['errorBalanceSender'] == 0) & (d_model['errorBalanceReceiver'] == 0), 1, 0)\n",
    "d_model.head(5)\n",
    "\n",
    "\n",
    "\n"
   ]
  },
  {
   "cell_type": "code",
   "execution_count": 26,
   "metadata": {},
   "outputs": [
    {
     "data": {
      "text/plain": [
       "0    9982\n",
       "1     658\n",
       "Name: noErrors, dtype: int64"
      ]
     },
     "execution_count": 26,
     "metadata": {},
     "output_type": "execute_result"
    }
   ],
   "source": [
    "d_model['noErrors'].value_counts()"
   ]
  },
  {
   "cell_type": "code",
   "execution_count": null,
   "metadata": {
    "collapsed": true
   },
   "outputs": [],
   "source": []
  },
  {
   "cell_type": "code",
   "execution_count": null,
   "metadata": {
    "collapsed": true
   },
   "outputs": [],
   "source": []
  },
  {
   "cell_type": "markdown",
   "metadata": {},
   "source": [
    "# Après créations des nouvelles variables,je vérifie  à nouveau l'independance des variables"
   ]
  },
  {
   "cell_type": "code",
   "execution_count": 27,
   "metadata": {},
   "outputs": [
    {
     "data": {
      "text/plain": [
       "<matplotlib.axes._subplots.AxesSubplot at 0x1b1ca8b6860>"
      ]
     },
     "execution_count": 27,
     "metadata": {},
     "output_type": "execute_result"
    },
    {
     "data": {
      "image/png": "[encoded data removed]",
      "text/plain": [
       "<matplotlib.figure.Figure at 0x1b1ca50b860>"
      ]
     },
     "metadata": {},
     "output_type": "display_data"
    }
   ],
   "source": [
    "# affichage des corrélations entre variables\n",
    "f, ax = plt.subplots(figsize=(12, 12))\n",
    "plt.title('Correlation entre variables ')\n",
    "sns.heatmap(d_model.corr(),linewidths=0.25,vmax=1.0, square=True, cmap=\"YlGnBu\", linecolor='black', annot=True)"
   ]
  },
  {
   "cell_type": "markdown",
   "metadata": {},
   "source": [
    "* Parfait d'après ce qui precède l'independance de nos variables est bel et bien assurée car les variables ne sont pas corrélées."
   ]
  },
  {
   "cell_type": "code",
   "execution_count": null,
   "metadata": {
    "collapsed": true
   },
   "outputs": [],
   "source": []
  },
  {
   "cell_type": "markdown",
   "metadata": {},
   "source": [
    "# Commençons notre modèle"
   ]
  },
  {
   "cell_type": "code",
   "execution_count": null,
   "metadata": {
    "collapsed": true
   },
   "outputs": [],
   "source": [
    "\n",
    "\n"
   ]
  },
  {
   "cell_type": "code",
   "execution_count": 28,
   "metadata": {
    "collapsed": true
   },
   "outputs": [],
   "source": [
    "# y variable dependante et X variables dependantes\n",
    "X = d_model.iloc[:, d_model.columns !='isFraud'].values\n",
    "y = d_model.iloc[:, 4].values"
   ]
  },
  {
   "cell_type": "code",
   "execution_count": 29,
   "metadata": {
    "collapsed": true
   },
   "outputs": [],
   "source": [
    "# separation en donnees d'entrainement et de test\n",
    "from sklearn.model_selection import train_test_split\n",
    "X_train, X_test, y_train, y_test = train_test_split(X, y, test_size = 0.2, random_state = 0)\n",
    "\n",
    "# unification de l'echelle des données\n",
    "from sklearn.preprocessing import StandardScaler\n",
    "sc = StandardScaler()\n",
    "X_train = sc.fit_transform(X_train)\n",
    "X_test = sc.transform(X_test)\n"
   ]
  },
  {
   "cell_type": "code",
   "execution_count": 30,
   "metadata": {},
   "outputs": [
    {
     "data": {
      "text/plain": [
       "\"\\nxTrainFraud = X_train.iloc[:,X_train.loc[:,'isFraud']==1]\\nsample = np.random.randint(0,xTrainFraud.shape[0]-1,100)\\nxTrainFraudAug = xTrainFraud.iloc[sample,:]\\n\""
      ]
     },
     "execution_count": 30,
     "metadata": {},
     "output_type": "execute_result"
    }
   ],
   "source": [
    "\"\"\"\n",
    "xTrainFraud = X_train.iloc[:,X_train.loc[:,'isFraud']==1]\n",
    "sample = np.random.randint(0,xTrainFraud.shape[0]-1,100)\n",
    "xTrainFraudAug = xTrainFraud.iloc[sample,:]\n",
    "\"\"\""
   ]
  },
  {
   "cell_type": "code",
   "execution_count": 31,
   "metadata": {},
   "outputs": [
    {
     "data": {
      "text/plain": [
       "LogisticRegression(C=1.0, class_weight=None, dual=False, fit_intercept=True,\n",
       "          intercept_scaling=1, max_iter=100, multi_class='ovr', n_jobs=1,\n",
       "          penalty='l2', random_state=0, solver='liblinear', tol=0.0001,\n",
       "          verbose=0, warm_start=False)"
      ]
     },
     "execution_count": 31,
     "metadata": {},
     "output_type": "execute_result"
    }
   ],
   "source": [
    "# Fitting Logistic Regression to the Training set\n",
    "from sklearn.linear_model import LogisticRegression\n",
    "classifier = LogisticRegression(random_state = 0)\n",
    "classifier.fit(X_train, y_train)\n",
    "\n",
    "\n"
   ]
  },
  {
   "cell_type": "code",
   "execution_count": 32,
   "metadata": {
    "collapsed": true
   },
   "outputs": [],
   "source": [
    "#print(classifier.coef_)"
   ]
  },
  {
   "cell_type": "code",
   "execution_count": 33,
   "metadata": {
    "collapsed": true
   },
   "outputs": [],
   "source": [
    "# Predicting the Test set results\n",
    "y_pred = classifier.predict(X_test)\n"
   ]
  },
  {
   "cell_type": "code",
   "execution_count": 34,
   "metadata": {
    "collapsed": true
   },
   "outputs": [],
   "source": [
    "# Making the Confusion Matrix\n",
    "from sklearn.metrics import confusion_matrix\n",
    "cm = confusion_matrix(y_test, y_pred)\n"
   ]
  },
  {
   "cell_type": "code",
   "execution_count": 35,
   "metadata": {},
   "outputs": [
    {
     "name": "stdout",
     "output_type": "stream",
     "text": [
      "[[1830   17]\n",
      " [  90  191]]\n"
     ]
    }
   ],
   "source": [
    "print(cm)"
   ]
  },
  {
   "cell_type": "markdown",
   "metadata": {
    "collapsed": true
   },
   "source": [
    "* Ce resultat montre que nous avons eu 1830+191 BONNES PREDICTIONS et 90+17 MAUVAISES PREDICTIONS soit un score de 94.97%"
   ]
  },
  {
   "cell_type": "markdown",
   "metadata": {
    "collapsed": true
   },
   "source": [
    " ##       Les variables de mon modèle sont toutes representatives?"
   ]
  },
  {
   "cell_type": "code",
   "execution_count": 36,
   "metadata": {
    "collapsed": true
   },
   "outputs": [],
   "source": [
    "# Ajouter une constante 1\n",
    "import statsmodels.formula.api as sm\n",
    "X_train = np.append(arr = np.ones((X_train.shape[0],1)).astype(int), values = X_train, axis = 1)\n",
    "\n"
   ]
  },
  {
   "cell_type": "code",
   "execution_count": 37,
   "metadata": {},
   "outputs": [
    {
     "data": {
      "text/html": [
       "<table class=\"simpletable\">\n",
       "<caption>OLS Regression Results</caption>\n",
       "<tr>\n",
       "  <th>Dep. Variable:</th>            <td>y</td>        <th>  R-squared:         </th> <td>   0.400</td>\n",
       "</tr>\n",
       "<tr>\n",
       "  <th>Model:</th>                   <td>OLS</td>       <th>  Adj. R-squared:    </th> <td>   0.399</td>\n",
       "</tr>\n",
       "<tr>\n",
       "  <th>Method:</th>             <td>Least Squares</td>  <th>  F-statistic:       </th> <td>   809.0</td>\n",
       "</tr>\n",
       "<tr>\n",
       "  <th>Date:</th>             <td>Fri, 07 Sep 2018</td> <th>  Prob (F-statistic):</th>  <td>  0.00</td> \n",
       "</tr>\n",
       "<tr>\n",
       "  <th>Time:</th>                 <td>12:44:56</td>     <th>  Log-Likelihood:    </th> <td> -578.63</td>\n",
       "</tr>\n",
       "<tr>\n",
       "  <th>No. Observations:</th>      <td>  8512</td>      <th>  AIC:               </th> <td>   1173.</td>\n",
       "</tr>\n",
       "<tr>\n",
       "  <th>Df Residuals:</th>          <td>  8504</td>      <th>  BIC:               </th> <td>   1230.</td>\n",
       "</tr>\n",
       "<tr>\n",
       "  <th>Df Model:</th>              <td>     7</td>      <th>                     </th>     <td> </td>   \n",
       "</tr>\n",
       "<tr>\n",
       "  <th>Covariance Type:</th>      <td>nonrobust</td>    <th>                     </th>     <td> </td>   \n",
       "</tr>\n",
       "</table>\n",
       "<table class=\"simpletable\">\n",
       "<tr>\n",
       "    <td></td>       <th>coef</th>     <th>std err</th>      <th>t</th>      <th>P>|t|</th>  <th>[0.025</th>    <th>0.975]</th>  \n",
       "</tr>\n",
       "<tr>\n",
       "  <th>const</th> <td>    0.1282</td> <td>    0.003</td> <td>   45.637</td> <td> 0.000</td> <td>    0.123</td> <td>    0.134</td>\n",
       "</tr>\n",
       "<tr>\n",
       "  <th>x1</th>    <td>    0.1132</td> <td>    0.003</td> <td>   36.350</td> <td> 0.000</td> <td>    0.107</td> <td>    0.119</td>\n",
       "</tr>\n",
       "<tr>\n",
       "  <th>x2</th>    <td>    0.1204</td> <td>    0.004</td> <td>   33.132</td> <td> 0.000</td> <td>    0.113</td> <td>    0.128</td>\n",
       "</tr>\n",
       "<tr>\n",
       "  <th>x3</th>    <td>   -0.0337</td> <td>    0.003</td> <td>  -11.730</td> <td> 0.000</td> <td>   -0.039</td> <td>   -0.028</td>\n",
       "</tr>\n",
       "<tr>\n",
       "  <th>x4</th>    <td>   -0.0252</td> <td>    0.003</td> <td>   -8.220</td> <td> 0.000</td> <td>   -0.031</td> <td>   -0.019</td>\n",
       "</tr>\n",
       "<tr>\n",
       "  <th>x5</th>    <td>    0.1308</td> <td>    0.003</td> <td>   39.074</td> <td> 0.000</td> <td>    0.124</td> <td>    0.137</td>\n",
       "</tr>\n",
       "<tr>\n",
       "  <th>x6</th>    <td>    0.0006</td> <td>    0.004</td> <td>    0.174</td> <td> 0.862</td> <td>   -0.006</td> <td>    0.008</td>\n",
       "</tr>\n",
       "<tr>\n",
       "  <th>x7</th>    <td>    0.0978</td> <td>    0.003</td> <td>   33.616</td> <td> 0.000</td> <td>    0.092</td> <td>    0.104</td>\n",
       "</tr>\n",
       "</table>\n",
       "<table class=\"simpletable\">\n",
       "<tr>\n",
       "  <th>Omnibus:</th>       <td>2479.552</td> <th>  Durbin-Watson:     </th> <td>   1.991</td>\n",
       "</tr>\n",
       "<tr>\n",
       "  <th>Prob(Omnibus):</th>  <td> 0.000</td>  <th>  Jarque-Bera (JB):  </th> <td>7440.037</td>\n",
       "</tr>\n",
       "<tr>\n",
       "  <th>Skew:</th>           <td> 1.511</td>  <th>  Prob(JB):          </th> <td>    0.00</td>\n",
       "</tr>\n",
       "<tr>\n",
       "  <th>Kurtosis:</th>       <td> 6.441</td>  <th>  Cond. No.          </th> <td>    2.30</td>\n",
       "</tr>\n",
       "</table>"
      ],
      "text/plain": [
       "<class 'statsmodels.iolib.summary.Summary'>\n",
       "\"\"\"\n",
       "                            OLS Regression Results                            \n",
       "==============================================================================\n",
       "Dep. Variable:                      y   R-squared:                       0.400\n",
       "Model:                            OLS   Adj. R-squared:                  0.399\n",
       "Method:                 Least Squares   F-statistic:                     809.0\n",
       "Date:                Fri, 07 Sep 2018   Prob (F-statistic):               0.00\n",
       "Time:                        12:44:56   Log-Likelihood:                -578.63\n",
       "No. Observations:                8512   AIC:                             1173.\n",
       "Df Residuals:                    8504   BIC:                             1230.\n",
       "Df Model:                           7                                         \n",
       "Covariance Type:            nonrobust                                         \n",
       "==============================================================================\n",
       "                 coef    std err          t      P>|t|      [0.025      0.975]\n",
       "------------------------------------------------------------------------------\n",
       "const          0.1282      0.003     45.637      0.000       0.123       0.134\n",
       "x1             0.1132      0.003     36.350      0.000       0.107       0.119\n",
       "x2             0.1204      0.004     33.132      0.000       0.113       0.128\n",
       "x3            -0.0337      0.003    -11.730      0.000      -0.039      -0.028\n",
       "x4            -0.0252      0.003     -8.220      0.000      -0.031      -0.019\n",
       "x5             0.1308      0.003     39.074      0.000       0.124       0.137\n",
       "x6             0.0006      0.004      0.174      0.862      -0.006       0.008\n",
       "x7             0.0978      0.003     33.616      0.000       0.092       0.104\n",
       "==============================================================================\n",
       "Omnibus:                     2479.552   Durbin-Watson:                   1.991\n",
       "Prob(Omnibus):                  0.000   Jarque-Bera (JB):             7440.037\n",
       "Skew:                           1.511   Prob(JB):                         0.00\n",
       "Kurtosis:                       6.441   Cond. No.                         2.30\n",
       "==============================================================================\n",
       "\n",
       "Warnings:\n",
       "[1] Standard Errors assume that the covariance matrix of the errors is correctly specified.\n",
       "\"\"\""
      ]
     },
     "execution_count": 37,
     "metadata": {},
     "output_type": "execute_result"
    }
   ],
   "source": [
    "# sum up\n",
    "import statsmodels.formula.api as sm\n",
    "X_opt = X_train[:,[0,1,2,3,4,5,6,7]]\n",
    "regressor_OLS = sm.OLS(endog = y_train, exog = X_opt).fit()\n",
    "regressor_OLS.summary()"
   ]
  },
  {
   "cell_type": "code",
   "execution_count": 38,
   "metadata": {},
   "outputs": [
    {
     "data": {
      "text/html": [
       "<table class=\"simpletable\">\n",
       "<caption>OLS Regression Results</caption>\n",
       "<tr>\n",
       "  <th>Dep. Variable:</th>            <td>y</td>        <th>  R-squared:         </th> <td>   0.400</td>\n",
       "</tr>\n",
       "<tr>\n",
       "  <th>Model:</th>                   <td>OLS</td>       <th>  Adj. R-squared:    </th> <td>   0.399</td>\n",
       "</tr>\n",
       "<tr>\n",
       "  <th>Method:</th>             <td>Least Squares</td>  <th>  F-statistic:       </th> <td>   943.9</td>\n",
       "</tr>\n",
       "<tr>\n",
       "  <th>Date:</th>             <td>Fri, 07 Sep 2018</td> <th>  Prob (F-statistic):</th>  <td>  0.00</td> \n",
       "</tr>\n",
       "<tr>\n",
       "  <th>Time:</th>                 <td>12:44:56</td>     <th>  Log-Likelihood:    </th> <td> -578.65</td>\n",
       "</tr>\n",
       "<tr>\n",
       "  <th>No. Observations:</th>      <td>  8512</td>      <th>  AIC:               </th> <td>   1171.</td>\n",
       "</tr>\n",
       "<tr>\n",
       "  <th>Df Residuals:</th>          <td>  8505</td>      <th>  BIC:               </th> <td>   1221.</td>\n",
       "</tr>\n",
       "<tr>\n",
       "  <th>Df Model:</th>              <td>     6</td>      <th>                     </th>     <td> </td>   \n",
       "</tr>\n",
       "<tr>\n",
       "  <th>Covariance Type:</th>      <td>nonrobust</td>    <th>                     </th>     <td> </td>   \n",
       "</tr>\n",
       "</table>\n",
       "<table class=\"simpletable\">\n",
       "<tr>\n",
       "    <td></td>       <th>coef</th>     <th>std err</th>      <th>t</th>      <th>P>|t|</th>  <th>[0.025</th>    <th>0.975]</th>  \n",
       "</tr>\n",
       "<tr>\n",
       "  <th>const</th> <td>    0.1282</td> <td>    0.003</td> <td>   45.640</td> <td> 0.000</td> <td>    0.123</td> <td>    0.134</td>\n",
       "</tr>\n",
       "<tr>\n",
       "  <th>x1</th>    <td>    0.1133</td> <td>    0.003</td> <td>   36.648</td> <td> 0.000</td> <td>    0.107</td> <td>    0.119</td>\n",
       "</tr>\n",
       "<tr>\n",
       "  <th>x2</th>    <td>    0.1207</td> <td>    0.003</td> <td>   39.188</td> <td> 0.000</td> <td>    0.115</td> <td>    0.127</td>\n",
       "</tr>\n",
       "<tr>\n",
       "  <th>x3</th>    <td>   -0.0337</td> <td>    0.003</td> <td>  -11.781</td> <td> 0.000</td> <td>   -0.039</td> <td>   -0.028</td>\n",
       "</tr>\n",
       "<tr>\n",
       "  <th>x4</th>    <td>   -0.0253</td> <td>    0.003</td> <td>   -8.648</td> <td> 0.000</td> <td>   -0.031</td> <td>   -0.020</td>\n",
       "</tr>\n",
       "<tr>\n",
       "  <th>x5</th>    <td>    0.1309</td> <td>    0.003</td> <td>   40.525</td> <td> 0.000</td> <td>    0.125</td> <td>    0.137</td>\n",
       "</tr>\n",
       "<tr>\n",
       "  <th>x6</th>    <td>    0.0978</td> <td>    0.003</td> <td>   33.798</td> <td> 0.000</td> <td>    0.092</td> <td>    0.103</td>\n",
       "</tr>\n",
       "</table>\n",
       "<table class=\"simpletable\">\n",
       "<tr>\n",
       "  <th>Omnibus:</th>       <td>2477.816</td> <th>  Durbin-Watson:     </th> <td>   1.991</td>\n",
       "</tr>\n",
       "<tr>\n",
       "  <th>Prob(Omnibus):</th>  <td> 0.000</td>  <th>  Jarque-Bera (JB):  </th> <td>7430.364</td>\n",
       "</tr>\n",
       "<tr>\n",
       "  <th>Skew:</th>           <td> 1.511</td>  <th>  Prob(JB):          </th> <td>    0.00</td>\n",
       "</tr>\n",
       "<tr>\n",
       "  <th>Kurtosis:</th>       <td> 6.439</td>  <th>  Cond. No.          </th> <td>    1.76</td>\n",
       "</tr>\n",
       "</table>"
      ],
      "text/plain": [
       "<class 'statsmodels.iolib.summary.Summary'>\n",
       "\"\"\"\n",
       "                            OLS Regression Results                            \n",
       "==============================================================================\n",
       "Dep. Variable:                      y   R-squared:                       0.400\n",
       "Model:                            OLS   Adj. R-squared:                  0.399\n",
       "Method:                 Least Squares   F-statistic:                     943.9\n",
       "Date:                Fri, 07 Sep 2018   Prob (F-statistic):               0.00\n",
       "Time:                        12:44:56   Log-Likelihood:                -578.65\n",
       "No. Observations:                8512   AIC:                             1171.\n",
       "Df Residuals:                    8505   BIC:                             1221.\n",
       "Df Model:                           6                                         \n",
       "Covariance Type:            nonrobust                                         \n",
       "==============================================================================\n",
       "                 coef    std err          t      P>|t|      [0.025      0.975]\n",
       "------------------------------------------------------------------------------\n",
       "const          0.1282      0.003     45.640      0.000       0.123       0.134\n",
       "x1             0.1133      0.003     36.648      0.000       0.107       0.119\n",
       "x2             0.1207      0.003     39.188      0.000       0.115       0.127\n",
       "x3            -0.0337      0.003    -11.781      0.000      -0.039      -0.028\n",
       "x4            -0.0253      0.003     -8.648      0.000      -0.031      -0.020\n",
       "x5             0.1309      0.003     40.525      0.000       0.125       0.137\n",
       "x6             0.0978      0.003     33.798      0.000       0.092       0.103\n",
       "==============================================================================\n",
       "Omnibus:                     2477.816   Durbin-Watson:                   1.991\n",
       "Prob(Omnibus):                  0.000   Jarque-Bera (JB):             7430.364\n",
       "Skew:                           1.511   Prob(JB):                         0.00\n",
       "Kurtosis:                       6.439   Cond. No.                         1.76\n",
       "==============================================================================\n",
       "\n",
       "Warnings:\n",
       "[1] Standard Errors assume that the covariance matrix of the errors is correctly specified.\n",
       "\"\"\""
      ]
     },
     "execution_count": 38,
     "metadata": {},
     "output_type": "execute_result"
    }
   ],
   "source": [
    "# on supprime la variable X6\n",
    "X_opt = X_train[:,[0,1,2,3,4,5,7]]\n",
    "regressor_OLS = sm.OLS(endog = y_train, exog = X_opt).fit()\n",
    "regressor_OLS.summary()"
   ]
  },
  {
   "cell_type": "markdown",
   "metadata": {
    "collapsed": true
   },
   "source": [
    "La variable \"errorBalanceReceiver\" est peu représentative dans le modele"
   ]
  },
  {
   "cell_type": "code",
   "execution_count": 39,
   "metadata": {},
   "outputs": [
    {
     "data": {
      "text/plain": [
       "\"from sklearn.model_selection import cross_val_score\\ndef compute_score(clf,X,y):\\n    xval=cross_val_score(clf,X,y,cv=5)\\n    return mean(xval)\\ncompute_score(classifier,X,y)\\nfrom sklearn.ensemble import RandomForestClassifier\\nnf=RandomForestClassifier()\\ncompute_score(nf,X,y)\\nfrom sklearn.linear_model import LinearRegression\\nf= LinearRegression()\\ncompute_score(f,X,y)\\nfrom sklearn.linear_model import LinearRegression\\nf= LinearRegression()\\ncompute_score(f,X,y)\\n#CONSTRUCTION DU MODELE ARBRE DE DECISION\\nfrom sklearn.tree import DecisionTreeClassifier\\nabre=DecisionTreeClassifier(criterion='entropy',random_state=0)\\ncompute_score(abre,X,y)\""
      ]
     },
     "execution_count": 39,
     "metadata": {},
     "output_type": "execute_result"
    }
   ],
   "source": [
    "# m'a permis de faire le choix du modèle\n",
    "\"\"\"from sklearn.model_selection import cross_val_score\n",
    "def compute_score(clf,X,y):\n",
    "    xval=cross_val_score(clf,X,y,cv=5)\n",
    "    return mean(xval)\n",
    "compute_score(classifier,X,y)\n",
    "from sklearn.ensemble import RandomForestClassifier\n",
    "nf=RandomForestClassifier()\n",
    "compute_score(nf,X,y)\n",
    "from sklearn.linear_model import LinearRegression\n",
    "f= LinearRegression()\n",
    "compute_score(f,X,y)\n",
    "from sklearn.linear_model import LinearRegression\n",
    "f= LinearRegression()\n",
    "compute_score(f,X,y)\n",
    "#CONSTRUCTION DU MODELE ARBRE DE DECISION\n",
    "from sklearn.tree import DecisionTreeClassifier\n",
    "abre=DecisionTreeClassifier(criterion='entropy',random_state=0)\n",
    "compute_score(abre,X,y)\"\"\""
   ]
  }
 ],
 "metadata": {
  "kernelspec": {
   "display_name": "Python 3",
   "language": "python",
   "name": "python3"
  },
  "language_info": {
   "codemirror_mode": {
    "name": "ipython",
    "version": 3
   },
   "file_extension": ".py",
   "mimetype": "text/x-python",
   "name": "python",
   "nbconvert_exporter": "python",
   "pygments_lexer": "ipython3",
   "version": "3.6.3"
  }
 },
 "nbformat": 4,
 "nbformat_minor": 2
}
