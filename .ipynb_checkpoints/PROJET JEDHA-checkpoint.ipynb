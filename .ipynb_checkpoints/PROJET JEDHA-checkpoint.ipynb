{
 "cells": [
  {
   "cell_type": "code",
   "execution_count": 1,
   "metadata": {},
   "outputs": [],
   "source": [
    "import pandas as pd\n",
    "import numpy as np\n",
    "from sklearn import preprocessing\n",
    "import matplotlib.pyplot as plt \n",
    "plt.rc(\"font\", size=14)\n",
    "import seaborn as sns\n",
    "sns.set(style=\"white\")\n",
    "sns.set(style=\"whitegrid\", color_codes=True)"
   ]
  },
  {
   "cell_type": "markdown",
   "metadata": {},
   "source": [
    "## Importation des données"
   ]
  },
  {
   "cell_type": "code",
   "execution_count": 2,
   "metadata": {},
   "outputs": [],
   "source": [
    "dataset=pd.read_excel('fraud_transaction.xlsx')\n"
   ]
  },
  {
   "cell_type": "markdown",
   "metadata": {},
   "source": [
    "# combien des lignes ou colonnes dans mon dataset"
   ]
  },
  {
   "cell_type": "code",
   "execution_count": 3,
   "metadata": {},
   "outputs": [
    {
     "data": {
      "text/plain": [
       "(20863, 11)"
      ]
     },
     "execution_count": 3,
     "metadata": {},
     "output_type": "execute_result"
    }
   ],
   "source": [
    "dataset.shape"
   ]
  },
  {
   "cell_type": "markdown",
   "metadata": {},
   "source": [
    "** Ce dataset a 9999 lignes et 11 colonnes"
   ]
  },
  {
   "cell_type": "markdown",
   "metadata": {},
   "source": [
    " Affichage de 5 premières lignes du dataset"
   ]
  },
  {
   "cell_type": "code",
   "execution_count": 4,
   "metadata": {},
   "outputs": [
    {
     "data": {
      "text/html": [
       "<div>\n",
       "<style>\n",
       "    .dataframe thead tr:only-child th {\n",
       "        text-align: right;\n",
       "    }\n",
       "\n",
       "    .dataframe thead th {\n",
       "        text-align: left;\n",
       "    }\n",
       "\n",
       "    .dataframe tbody tr th {\n",
       "        vertical-align: top;\n",
       "    }\n",
       "</style>\n",
       "<table border=\"1\" class=\"dataframe\">\n",
       "  <thead>\n",
       "    <tr style=\"text-align: right;\">\n",
       "      <th></th>\n",
       "      <th>step</th>\n",
       "      <th>type</th>\n",
       "      <th>amount</th>\n",
       "      <th>nameOrig</th>\n",
       "      <th>oldbalanceOrg</th>\n",
       "      <th>newbalanceOrig</th>\n",
       "      <th>nameDest</th>\n",
       "      <th>oldbalanceDest</th>\n",
       "      <th>newbalanceDest</th>\n",
       "      <th>isFraud</th>\n",
       "      <th>isFlaggedFraud</th>\n",
       "    </tr>\n",
       "  </thead>\n",
       "  <tbody>\n",
       "    <tr>\n",
       "      <th>0</th>\n",
       "      <td>16</td>\n",
       "      <td>CASH_IN</td>\n",
       "      <td>171267.01</td>\n",
       "      <td>C342385813</td>\n",
       "      <td>91788.00</td>\n",
       "      <td>263055.01</td>\n",
       "      <td>C1326285041</td>\n",
       "      <td>130023.06</td>\n",
       "      <td>0.00</td>\n",
       "      <td>0</td>\n",
       "      <td>0</td>\n",
       "    </tr>\n",
       "    <tr>\n",
       "      <th>1</th>\n",
       "      <td>13</td>\n",
       "      <td>CASH_OUT</td>\n",
       "      <td>15149.15</td>\n",
       "      <td>C1819823204</td>\n",
       "      <td>158857.00</td>\n",
       "      <td>143707.85</td>\n",
       "      <td>C1828290290</td>\n",
       "      <td>0.00</td>\n",
       "      <td>15149.15</td>\n",
       "      <td>0</td>\n",
       "      <td>0</td>\n",
       "    </tr>\n",
       "    <tr>\n",
       "      <th>2</th>\n",
       "      <td>12</td>\n",
       "      <td>CASH_OUT</td>\n",
       "      <td>118064.98</td>\n",
       "      <td>C1030324341</td>\n",
       "      <td>2709701.00</td>\n",
       "      <td>2591636.02</td>\n",
       "      <td>C242783599</td>\n",
       "      <td>187337.43</td>\n",
       "      <td>305402.40</td>\n",
       "      <td>0</td>\n",
       "      <td>0</td>\n",
       "    </tr>\n",
       "    <tr>\n",
       "      <th>3</th>\n",
       "      <td>11</td>\n",
       "      <td>CASH_IN</td>\n",
       "      <td>122327.22</td>\n",
       "      <td>C1409524889</td>\n",
       "      <td>5297757.38</td>\n",
       "      <td>5420084.59</td>\n",
       "      <td>C1276977413</td>\n",
       "      <td>250489.72</td>\n",
       "      <td>128162.50</td>\n",
       "      <td>0</td>\n",
       "      <td>0</td>\n",
       "    </tr>\n",
       "    <tr>\n",
       "      <th>4</th>\n",
       "      <td>11</td>\n",
       "      <td>CASH_IN</td>\n",
       "      <td>129449.30</td>\n",
       "      <td>C818391416</td>\n",
       "      <td>177.00</td>\n",
       "      <td>129626.30</td>\n",
       "      <td>C189856885</td>\n",
       "      <td>261301.81</td>\n",
       "      <td>272398.17</td>\n",
       "      <td>0</td>\n",
       "      <td>0</td>\n",
       "    </tr>\n",
       "  </tbody>\n",
       "</table>\n",
       "</div>"
      ],
      "text/plain": [
       "   step      type     amount     nameOrig  oldbalanceOrg  newbalanceOrig  \\\n",
       "0    16   CASH_IN  171267.01   C342385813       91788.00       263055.01   \n",
       "1    13  CASH_OUT   15149.15  C1819823204      158857.00       143707.85   \n",
       "2    12  CASH_OUT  118064.98  C1030324341     2709701.00      2591636.02   \n",
       "3    11   CASH_IN  122327.22  C1409524889     5297757.38      5420084.59   \n",
       "4    11   CASH_IN  129449.30   C818391416         177.00       129626.30   \n",
       "\n",
       "      nameDest  oldbalanceDest  newbalanceDest  isFraud  isFlaggedFraud  \n",
       "0  C1326285041       130023.06            0.00        0               0  \n",
       "1  C1828290290            0.00        15149.15        0               0  \n",
       "2   C242783599       187337.43       305402.40        0               0  \n",
       "3  C1276977413       250489.72       128162.50        0               0  \n",
       "4   C189856885       261301.81       272398.17        0               0  "
      ]
     },
     "execution_count": 4,
     "metadata": {},
     "output_type": "execute_result"
    }
   ],
   "source": [
    "dataset.head()"
   ]
  },
  {
   "cell_type": "code",
   "execution_count": null,
   "metadata": {},
   "outputs": [],
   "source": []
  },
  {
   "cell_type": "markdown",
   "metadata": {},
   "source": [
    "##   Exploration  et netoyage des données "
   ]
  },
  {
   "cell_type": "markdown",
   "metadata": {},
   "source": [
    "Les différentes variables  dans le dataset"
   ]
  },
  {
   "cell_type": "code",
   "execution_count": 5,
   "metadata": {},
   "outputs": [
    {
     "name": "stdout",
     "output_type": "stream",
     "text": [
      "['step', 'type', 'amount', 'nameOrig', 'oldbalanceOrg', 'newbalanceOrig', 'nameDest', 'oldbalanceDest', 'newbalanceDest', 'isFraud', 'isFlaggedFraud']\n"
     ]
    }
   ],
   "source": [
    "print(dataset.columns.tolist())"
   ]
  },
  {
   "cell_type": "markdown",
   "metadata": {},
   "source": [
    "*Exist il des variables non renseignées totalement?"
   ]
  },
  {
   "cell_type": "code",
   "execution_count": 6,
   "metadata": {},
   "outputs": [
    {
     "data": {
      "text/plain": [
       "step              0\n",
       "type              0\n",
       "amount            0\n",
       "nameOrig          0\n",
       "oldbalanceOrg     0\n",
       "newbalanceOrig    0\n",
       "nameDest          0\n",
       "oldbalanceDest    0\n",
       "newbalanceDest    0\n",
       "isFraud           0\n",
       "isFlaggedFraud    0\n",
       "dtype: int64"
      ]
     },
     "execution_count": 6,
     "metadata": {},
     "output_type": "execute_result"
    }
   ],
   "source": [
    "dataset.isnull().sum()"
   ]
  },
  {
   "cell_type": "markdown",
   "metadata": {},
   "source": [
    "** Toutes les variables sont totalement renseignées, aucune valeur manquante dans le dataset"
   ]
  },
  {
   "cell_type": "code",
   "execution_count": 7,
   "metadata": {},
   "outputs": [
    {
     "data": {
      "text/plain": [
       "0    20843\n",
       "1       20\n",
       "Name: isFraud, dtype: int64"
      ]
     },
     "execution_count": 7,
     "metadata": {},
     "output_type": "execute_result"
    }
   ],
   "source": [
    "dataset['isFraud'].value_counts()"
   ]
  },
  {
   "cell_type": "code",
   "execution_count": 8,
   "metadata": {},
   "outputs": [
    {
     "data": {
      "text/plain": [
       "C354836435     5\n",
       "C1905034640    4\n",
       "C1304345230    4\n",
       "C1459757869    4\n",
       "C1256392652    4\n",
       "C669419693     4\n",
       "C1327668719    4\n",
       "C726752092     4\n",
       "C1193329690    4\n",
       "C1827142412    4\n",
       "C1149273771    4\n",
       "C1303868418    4\n",
       "C1501701470    4\n",
       "C1247600089    4\n",
       "C1198441233    4\n",
       "C441398584     4\n",
       "C1452646606    4\n",
       "C109599906     4\n",
       "C451111351     4\n",
       "C1529115495    4\n",
       "C2083562754    4\n",
       "C674913323     4\n",
       "C616563206     4\n",
       "C2000626802    4\n",
       "C982997256     3\n",
       "C570409417     3\n",
       "C693147508     3\n",
       "C967814370     3\n",
       "C1526298704    3\n",
       "C1987671612    3\n",
       "              ..\n",
       "C378098805     1\n",
       "M1723089011    1\n",
       "M1176974239    1\n",
       "M1840949889    1\n",
       "C679136179     1\n",
       "C1140223380    1\n",
       "M1738644252    1\n",
       "C1144500721    1\n",
       "M289021464     1\n",
       "C204164560     1\n",
       "C83646135      1\n",
       "C1681984722    1\n",
       "C487219656     1\n",
       "C1155970721    1\n",
       "C1874150773    1\n",
       "M996200495     1\n",
       "C488119804     1\n",
       "M1999717151    1\n",
       "M215311941     1\n",
       "C58150318      1\n",
       "M446064107     1\n",
       "C1958814164    1\n",
       "M1323544358    1\n",
       "M1551339565    1\n",
       "C480440244     1\n",
       "C713109131     1\n",
       "M1041782583    1\n",
       "C1589572557    1\n",
       "M1495449183    1\n",
       "C2113480951    1\n",
       "Name: nameDest, Length: 19144, dtype: int64"
      ]
     },
     "execution_count": 8,
     "metadata": {},
     "output_type": "execute_result"
    }
   ],
   "source": [
    "dataset['nameDest'].value_counts()"
   ]
  },
  {
   "cell_type": "code",
   "execution_count": 9,
   "metadata": {},
   "outputs": [
    {
     "data": {
      "image/png": "[encoded data removed]",
      "text/plain": [
       "<matplotlib.figure.Figure at 0x27cee8cb198>"
      ]
     },
     "metadata": {},
     "output_type": "display_data"
    }
   ],
   "source": [
    "sns.countplot(x='type',data=dataset,palette='hls')\n",
    "plt.show()"
   ]
  },
  {
   "cell_type": "code",
   "execution_count": 10,
   "metadata": {},
   "outputs": [
    {
     "data": {
      "image/png": "[encoded data removed]",
      "text/plain": [
       "<matplotlib.figure.Figure at 0x27cee9ea390>"
      ]
     },
     "metadata": {},
     "output_type": "display_data"
    }
   ],
   "source": [
    "sns.countplot(x='isFlaggedFraud',data=dataset,palette='hls')\n",
    "plt.show()"
   ]
  },
  {
   "cell_type": "code",
   "execution_count": 11,
   "metadata": {},
   "outputs": [
    {
     "data": {
      "text/html": [
       "<div>\n",
       "<style>\n",
       "    .dataframe thead tr:only-child th {\n",
       "        text-align: right;\n",
       "    }\n",
       "\n",
       "    .dataframe thead th {\n",
       "        text-align: left;\n",
       "    }\n",
       "\n",
       "    .dataframe tbody tr th {\n",
       "        vertical-align: top;\n",
       "    }\n",
       "</style>\n",
       "<table border=\"1\" class=\"dataframe\">\n",
       "  <thead>\n",
       "    <tr style=\"text-align: right;\">\n",
       "      <th></th>\n",
       "      <th>step</th>\n",
       "      <th>type</th>\n",
       "      <th>amount</th>\n",
       "      <th>nameOrig</th>\n",
       "      <th>oldbalanceOrg</th>\n",
       "      <th>newbalanceOrig</th>\n",
       "      <th>nameDest</th>\n",
       "      <th>oldbalanceDest</th>\n",
       "      <th>newbalanceDest</th>\n",
       "      <th>isFraud</th>\n",
       "      <th>isFlaggedFraud</th>\n",
       "    </tr>\n",
       "  </thead>\n",
       "  <tbody>\n",
       "  </tbody>\n",
       "</table>\n",
       "</div>"
      ],
      "text/plain": [
       "Empty DataFrame\n",
       "Columns: [step, type, amount, nameOrig, oldbalanceOrg, newbalanceOrig, nameDest, oldbalanceDest, newbalanceDest, isFraud, isFlaggedFraud]\n",
       "Index: []"
      ]
     },
     "execution_count": 11,
     "metadata": {},
     "output_type": "execute_result"
    }
   ],
   "source": [
    "\n",
    "dataset[dataset['nameDest']=='% M']"
   ]
  },
  {
   "cell_type": "code",
   "execution_count": 12,
   "metadata": {},
   "outputs": [
    {
     "data": {
      "text/html": [
       "<div>\n",
       "<style>\n",
       "    .dataframe thead tr:only-child th {\n",
       "        text-align: right;\n",
       "    }\n",
       "\n",
       "    .dataframe thead th {\n",
       "        text-align: left;\n",
       "    }\n",
       "\n",
       "    .dataframe tbody tr th {\n",
       "        vertical-align: top;\n",
       "    }\n",
       "</style>\n",
       "<table border=\"1\" class=\"dataframe\">\n",
       "  <thead>\n",
       "    <tr style=\"text-align: right;\">\n",
       "      <th></th>\n",
       "      <th>step</th>\n",
       "      <th>type</th>\n",
       "      <th>amount</th>\n",
       "      <th>nameOrig</th>\n",
       "      <th>oldbalanceOrg</th>\n",
       "      <th>newbalanceOrig</th>\n",
       "      <th>nameDest</th>\n",
       "      <th>oldbalanceDest</th>\n",
       "      <th>newbalanceDest</th>\n",
       "      <th>isFraud</th>\n",
       "      <th>isFlaggedFraud</th>\n",
       "    </tr>\n",
       "  </thead>\n",
       "  <tbody>\n",
       "    <tr>\n",
       "      <th>1296</th>\n",
       "      <td>69</td>\n",
       "      <td>TRANSFER</td>\n",
       "      <td>353313.55</td>\n",
       "      <td>C275034566</td>\n",
       "      <td>353313.55</td>\n",
       "      <td>0.0</td>\n",
       "      <td>C782534893</td>\n",
       "      <td>0.0</td>\n",
       "      <td>0.0</td>\n",
       "      <td>1</td>\n",
       "      <td>0</td>\n",
       "    </tr>\n",
       "    <tr>\n",
       "      <th>3903</th>\n",
       "      <td>59</td>\n",
       "      <td>TRANSFER</td>\n",
       "      <td>2050727.81</td>\n",
       "      <td>C721700955</td>\n",
       "      <td>2050727.81</td>\n",
       "      <td>0.0</td>\n",
       "      <td>C1996747267</td>\n",
       "      <td>0.0</td>\n",
       "      <td>0.0</td>\n",
       "      <td>1</td>\n",
       "      <td>0</td>\n",
       "    </tr>\n",
       "    <tr>\n",
       "      <th>8847</th>\n",
       "      <td>56</td>\n",
       "      <td>TRANSFER</td>\n",
       "      <td>2776135.33</td>\n",
       "      <td>C432219684</td>\n",
       "      <td>2776135.33</td>\n",
       "      <td>0.0</td>\n",
       "      <td>C926776113</td>\n",
       "      <td>0.0</td>\n",
       "      <td>0.0</td>\n",
       "      <td>1</td>\n",
       "      <td>0</td>\n",
       "    </tr>\n",
       "    <tr>\n",
       "      <th>10909</th>\n",
       "      <td>67</td>\n",
       "      <td>TRANSFER</td>\n",
       "      <td>1028326.50</td>\n",
       "      <td>C582388359</td>\n",
       "      <td>1028326.50</td>\n",
       "      <td>0.0</td>\n",
       "      <td>C641615589</td>\n",
       "      <td>0.0</td>\n",
       "      <td>0.0</td>\n",
       "      <td>1</td>\n",
       "      <td>0</td>\n",
       "    </tr>\n",
       "    <tr>\n",
       "      <th>11764</th>\n",
       "      <td>56</td>\n",
       "      <td>TRANSFER</td>\n",
       "      <td>530733.43</td>\n",
       "      <td>C176579882</td>\n",
       "      <td>530733.43</td>\n",
       "      <td>0.0</td>\n",
       "      <td>C1049193275</td>\n",
       "      <td>0.0</td>\n",
       "      <td>0.0</td>\n",
       "      <td>1</td>\n",
       "      <td>0</td>\n",
       "    </tr>\n",
       "    <tr>\n",
       "      <th>16325</th>\n",
       "      <td>78</td>\n",
       "      <td>TRANSFER</td>\n",
       "      <td>2254934.36</td>\n",
       "      <td>C65227807</td>\n",
       "      <td>2254934.36</td>\n",
       "      <td>0.0</td>\n",
       "      <td>C213999906</td>\n",
       "      <td>0.0</td>\n",
       "      <td>0.0</td>\n",
       "      <td>1</td>\n",
       "      <td>0</td>\n",
       "    </tr>\n",
       "    <tr>\n",
       "      <th>17842</th>\n",
       "      <td>46</td>\n",
       "      <td>TRANSFER</td>\n",
       "      <td>585010.21</td>\n",
       "      <td>C1948614614</td>\n",
       "      <td>585010.21</td>\n",
       "      <td>0.0</td>\n",
       "      <td>C218558993</td>\n",
       "      <td>0.0</td>\n",
       "      <td>0.0</td>\n",
       "      <td>1</td>\n",
       "      <td>0</td>\n",
       "    </tr>\n",
       "  </tbody>\n",
       "</table>\n",
       "</div>"
      ],
      "text/plain": [
       "       step      type      amount     nameOrig  oldbalanceOrg  newbalanceOrig  \\\n",
       "1296     69  TRANSFER   353313.55   C275034566      353313.55             0.0   \n",
       "3903     59  TRANSFER  2050727.81   C721700955     2050727.81             0.0   \n",
       "8847     56  TRANSFER  2776135.33   C432219684     2776135.33             0.0   \n",
       "10909    67  TRANSFER  1028326.50   C582388359     1028326.50             0.0   \n",
       "11764    56  TRANSFER   530733.43   C176579882      530733.43             0.0   \n",
       "16325    78  TRANSFER  2254934.36    C65227807     2254934.36             0.0   \n",
       "17842    46  TRANSFER   585010.21  C1948614614      585010.21             0.0   \n",
       "\n",
       "          nameDest  oldbalanceDest  newbalanceDest  isFraud  isFlaggedFraud  \n",
       "1296    C782534893             0.0             0.0        1               0  \n",
       "3903   C1996747267             0.0             0.0        1               0  \n",
       "8847    C926776113             0.0             0.0        1               0  \n",
       "10909   C641615589             0.0             0.0        1               0  \n",
       "11764  C1049193275             0.0             0.0        1               0  \n",
       "16325   C213999906             0.0             0.0        1               0  \n",
       "17842   C218558993             0.0             0.0        1               0  "
      ]
     },
     "execution_count": 12,
     "metadata": {},
     "output_type": "execute_result"
    }
   ],
   "source": [
    "dataset[(dataset['amount']>200000)&(dataset['isFraud']==1)&(dataset['type']==\"TRANSFER\")]"
   ]
  },
  {
   "cell_type": "code",
   "execution_count": 13,
   "metadata": {},
   "outputs": [
    {
     "data": {
      "text/html": [
       "<div>\n",
       "<style>\n",
       "    .dataframe thead tr:only-child th {\n",
       "        text-align: right;\n",
       "    }\n",
       "\n",
       "    .dataframe thead th {\n",
       "        text-align: left;\n",
       "    }\n",
       "\n",
       "    .dataframe tbody tr th {\n",
       "        vertical-align: top;\n",
       "    }\n",
       "</style>\n",
       "<table border=\"1\" class=\"dataframe\">\n",
       "  <thead>\n",
       "    <tr style=\"text-align: right;\">\n",
       "      <th></th>\n",
       "      <th>step</th>\n",
       "      <th>type</th>\n",
       "      <th>amount</th>\n",
       "      <th>nameOrig</th>\n",
       "      <th>oldbalanceOrg</th>\n",
       "      <th>newbalanceOrig</th>\n",
       "      <th>nameDest</th>\n",
       "      <th>oldbalanceDest</th>\n",
       "      <th>newbalanceDest</th>\n",
       "      <th>isFraud</th>\n",
       "      <th>isFlaggedFraud</th>\n",
       "    </tr>\n",
       "  </thead>\n",
       "  <tbody>\n",
       "    <tr>\n",
       "      <th>118</th>\n",
       "      <td>55</td>\n",
       "      <td>TRANSFER</td>\n",
       "      <td>167715.53</td>\n",
       "      <td>C5594712</td>\n",
       "      <td>167715.53</td>\n",
       "      <td>0.0</td>\n",
       "      <td>C69798076</td>\n",
       "      <td>0.00</td>\n",
       "      <td>0.00</td>\n",
       "      <td>1</td>\n",
       "      <td>0</td>\n",
       "    </tr>\n",
       "    <tr>\n",
       "      <th>1296</th>\n",
       "      <td>69</td>\n",
       "      <td>TRANSFER</td>\n",
       "      <td>353313.55</td>\n",
       "      <td>C275034566</td>\n",
       "      <td>353313.55</td>\n",
       "      <td>0.0</td>\n",
       "      <td>C782534893</td>\n",
       "      <td>0.00</td>\n",
       "      <td>0.00</td>\n",
       "      <td>1</td>\n",
       "      <td>0</td>\n",
       "    </tr>\n",
       "    <tr>\n",
       "      <th>1668</th>\n",
       "      <td>43</td>\n",
       "      <td>TRANSFER</td>\n",
       "      <td>29988.00</td>\n",
       "      <td>C158964639</td>\n",
       "      <td>29988.00</td>\n",
       "      <td>0.0</td>\n",
       "      <td>C1661087818</td>\n",
       "      <td>0.00</td>\n",
       "      <td>0.00</td>\n",
       "      <td>1</td>\n",
       "      <td>0</td>\n",
       "    </tr>\n",
       "    <tr>\n",
       "      <th>1822</th>\n",
       "      <td>34</td>\n",
       "      <td>TRANSFER</td>\n",
       "      <td>51424.22</td>\n",
       "      <td>C1887135298</td>\n",
       "      <td>51424.22</td>\n",
       "      <td>0.0</td>\n",
       "      <td>C1119742908</td>\n",
       "      <td>0.00</td>\n",
       "      <td>0.00</td>\n",
       "      <td>1</td>\n",
       "      <td>0</td>\n",
       "    </tr>\n",
       "    <tr>\n",
       "      <th>2271</th>\n",
       "      <td>89</td>\n",
       "      <td>TRANSFER</td>\n",
       "      <td>43928.31</td>\n",
       "      <td>C1832804428</td>\n",
       "      <td>43928.31</td>\n",
       "      <td>0.0</td>\n",
       "      <td>C1373339236</td>\n",
       "      <td>0.00</td>\n",
       "      <td>0.00</td>\n",
       "      <td>1</td>\n",
       "      <td>0</td>\n",
       "    </tr>\n",
       "    <tr>\n",
       "      <th>3633</th>\n",
       "      <td>80</td>\n",
       "      <td>TRANSFER</td>\n",
       "      <td>173782.59</td>\n",
       "      <td>C517594835</td>\n",
       "      <td>173782.59</td>\n",
       "      <td>0.0</td>\n",
       "      <td>C1448192965</td>\n",
       "      <td>0.00</td>\n",
       "      <td>0.00</td>\n",
       "      <td>1</td>\n",
       "      <td>0</td>\n",
       "    </tr>\n",
       "    <tr>\n",
       "      <th>3809</th>\n",
       "      <td>78</td>\n",
       "      <td>CASH_OUT</td>\n",
       "      <td>2254934.36</td>\n",
       "      <td>C706933703</td>\n",
       "      <td>2254934.36</td>\n",
       "      <td>0.0</td>\n",
       "      <td>C273430415</td>\n",
       "      <td>364128.61</td>\n",
       "      <td>2619062.97</td>\n",
       "      <td>1</td>\n",
       "      <td>0</td>\n",
       "    </tr>\n",
       "    <tr>\n",
       "      <th>3903</th>\n",
       "      <td>59</td>\n",
       "      <td>TRANSFER</td>\n",
       "      <td>2050727.81</td>\n",
       "      <td>C721700955</td>\n",
       "      <td>2050727.81</td>\n",
       "      <td>0.0</td>\n",
       "      <td>C1996747267</td>\n",
       "      <td>0.00</td>\n",
       "      <td>0.00</td>\n",
       "      <td>1</td>\n",
       "      <td>0</td>\n",
       "    </tr>\n",
       "    <tr>\n",
       "      <th>3924</th>\n",
       "      <td>74</td>\n",
       "      <td>CASH_OUT</td>\n",
       "      <td>4582074.51</td>\n",
       "      <td>C1507497077</td>\n",
       "      <td>4582074.51</td>\n",
       "      <td>0.0</td>\n",
       "      <td>C910594371</td>\n",
       "      <td>154034.94</td>\n",
       "      <td>4736109.45</td>\n",
       "      <td>1</td>\n",
       "      <td>0</td>\n",
       "    </tr>\n",
       "    <tr>\n",
       "      <th>4497</th>\n",
       "      <td>59</td>\n",
       "      <td>TRANSFER</td>\n",
       "      <td>21174.45</td>\n",
       "      <td>C1690317775</td>\n",
       "      <td>21174.45</td>\n",
       "      <td>0.0</td>\n",
       "      <td>C1829927547</td>\n",
       "      <td>0.00</td>\n",
       "      <td>0.00</td>\n",
       "      <td>1</td>\n",
       "      <td>0</td>\n",
       "    </tr>\n",
       "    <tr>\n",
       "      <th>6341</th>\n",
       "      <td>13</td>\n",
       "      <td>CASH_OUT</td>\n",
       "      <td>2686564.04</td>\n",
       "      <td>C901331326</td>\n",
       "      <td>2686564.04</td>\n",
       "      <td>0.0</td>\n",
       "      <td>C1662761228</td>\n",
       "      <td>438199.37</td>\n",
       "      <td>3124763.41</td>\n",
       "      <td>1</td>\n",
       "      <td>0</td>\n",
       "    </tr>\n",
       "    <tr>\n",
       "      <th>8847</th>\n",
       "      <td>56</td>\n",
       "      <td>TRANSFER</td>\n",
       "      <td>2776135.33</td>\n",
       "      <td>C432219684</td>\n",
       "      <td>2776135.33</td>\n",
       "      <td>0.0</td>\n",
       "      <td>C926776113</td>\n",
       "      <td>0.00</td>\n",
       "      <td>0.00</td>\n",
       "      <td>1</td>\n",
       "      <td>0</td>\n",
       "    </tr>\n",
       "    <tr>\n",
       "      <th>10871</th>\n",
       "      <td>17</td>\n",
       "      <td>TRANSFER</td>\n",
       "      <td>195351.76</td>\n",
       "      <td>C1420261366</td>\n",
       "      <td>195351.76</td>\n",
       "      <td>0.0</td>\n",
       "      <td>C639808302</td>\n",
       "      <td>0.00</td>\n",
       "      <td>0.00</td>\n",
       "      <td>1</td>\n",
       "      <td>0</td>\n",
       "    </tr>\n",
       "    <tr>\n",
       "      <th>10909</th>\n",
       "      <td>67</td>\n",
       "      <td>TRANSFER</td>\n",
       "      <td>1028326.50</td>\n",
       "      <td>C582388359</td>\n",
       "      <td>1028326.50</td>\n",
       "      <td>0.0</td>\n",
       "      <td>C641615589</td>\n",
       "      <td>0.00</td>\n",
       "      <td>0.00</td>\n",
       "      <td>1</td>\n",
       "      <td>0</td>\n",
       "    </tr>\n",
       "    <tr>\n",
       "      <th>11764</th>\n",
       "      <td>56</td>\n",
       "      <td>TRANSFER</td>\n",
       "      <td>530733.43</td>\n",
       "      <td>C176579882</td>\n",
       "      <td>530733.43</td>\n",
       "      <td>0.0</td>\n",
       "      <td>C1049193275</td>\n",
       "      <td>0.00</td>\n",
       "      <td>0.00</td>\n",
       "      <td>1</td>\n",
       "      <td>0</td>\n",
       "    </tr>\n",
       "    <tr>\n",
       "      <th>12426</th>\n",
       "      <td>71</td>\n",
       "      <td>CASH_OUT</td>\n",
       "      <td>322113.91</td>\n",
       "      <td>C1982559118</td>\n",
       "      <td>322113.91</td>\n",
       "      <td>0.0</td>\n",
       "      <td>C1018969803</td>\n",
       "      <td>0.00</td>\n",
       "      <td>322113.91</td>\n",
       "      <td>1</td>\n",
       "      <td>0</td>\n",
       "    </tr>\n",
       "    <tr>\n",
       "      <th>16325</th>\n",
       "      <td>78</td>\n",
       "      <td>TRANSFER</td>\n",
       "      <td>2254934.36</td>\n",
       "      <td>C65227807</td>\n",
       "      <td>2254934.36</td>\n",
       "      <td>0.0</td>\n",
       "      <td>C213999906</td>\n",
       "      <td>0.00</td>\n",
       "      <td>0.00</td>\n",
       "      <td>1</td>\n",
       "      <td>0</td>\n",
       "    </tr>\n",
       "    <tr>\n",
       "      <th>16748</th>\n",
       "      <td>69</td>\n",
       "      <td>TRANSFER</td>\n",
       "      <td>19776.71</td>\n",
       "      <td>C1567288795</td>\n",
       "      <td>19776.71</td>\n",
       "      <td>0.0</td>\n",
       "      <td>C1978402788</td>\n",
       "      <td>0.00</td>\n",
       "      <td>0.00</td>\n",
       "      <td>1</td>\n",
       "      <td>0</td>\n",
       "    </tr>\n",
       "    <tr>\n",
       "      <th>17842</th>\n",
       "      <td>46</td>\n",
       "      <td>TRANSFER</td>\n",
       "      <td>585010.21</td>\n",
       "      <td>C1948614614</td>\n",
       "      <td>585010.21</td>\n",
       "      <td>0.0</td>\n",
       "      <td>C218558993</td>\n",
       "      <td>0.00</td>\n",
       "      <td>0.00</td>\n",
       "      <td>1</td>\n",
       "      <td>0</td>\n",
       "    </tr>\n",
       "    <tr>\n",
       "      <th>17931</th>\n",
       "      <td>8</td>\n",
       "      <td>CASH_OUT</td>\n",
       "      <td>222.00</td>\n",
       "      <td>C1737727444</td>\n",
       "      <td>222.00</td>\n",
       "      <td>0.0</td>\n",
       "      <td>C588779235</td>\n",
       "      <td>24708.00</td>\n",
       "      <td>171647.35</td>\n",
       "      <td>1</td>\n",
       "      <td>0</td>\n",
       "    </tr>\n",
       "  </tbody>\n",
       "</table>\n",
       "</div>"
      ],
      "text/plain": [
       "       step      type      amount     nameOrig  oldbalanceOrg  newbalanceOrig  \\\n",
       "118      55  TRANSFER   167715.53     C5594712      167715.53             0.0   \n",
       "1296     69  TRANSFER   353313.55   C275034566      353313.55             0.0   \n",
       "1668     43  TRANSFER    29988.00   C158964639       29988.00             0.0   \n",
       "1822     34  TRANSFER    51424.22  C1887135298       51424.22             0.0   \n",
       "2271     89  TRANSFER    43928.31  C1832804428       43928.31             0.0   \n",
       "3633     80  TRANSFER   173782.59   C517594835      173782.59             0.0   \n",
       "3809     78  CASH_OUT  2254934.36   C706933703     2254934.36             0.0   \n",
       "3903     59  TRANSFER  2050727.81   C721700955     2050727.81             0.0   \n",
       "3924     74  CASH_OUT  4582074.51  C1507497077     4582074.51             0.0   \n",
       "4497     59  TRANSFER    21174.45  C1690317775       21174.45             0.0   \n",
       "6341     13  CASH_OUT  2686564.04   C901331326     2686564.04             0.0   \n",
       "8847     56  TRANSFER  2776135.33   C432219684     2776135.33             0.0   \n",
       "10871    17  TRANSFER   195351.76  C1420261366      195351.76             0.0   \n",
       "10909    67  TRANSFER  1028326.50   C582388359     1028326.50             0.0   \n",
       "11764    56  TRANSFER   530733.43   C176579882      530733.43             0.0   \n",
       "12426    71  CASH_OUT   322113.91  C1982559118      322113.91             0.0   \n",
       "16325    78  TRANSFER  2254934.36    C65227807     2254934.36             0.0   \n",
       "16748    69  TRANSFER    19776.71  C1567288795       19776.71             0.0   \n",
       "17842    46  TRANSFER   585010.21  C1948614614      585010.21             0.0   \n",
       "17931     8  CASH_OUT      222.00  C1737727444         222.00             0.0   \n",
       "\n",
       "          nameDest  oldbalanceDest  newbalanceDest  isFraud  isFlaggedFraud  \n",
       "118      C69798076            0.00            0.00        1               0  \n",
       "1296    C782534893            0.00            0.00        1               0  \n",
       "1668   C1661087818            0.00            0.00        1               0  \n",
       "1822   C1119742908            0.00            0.00        1               0  \n",
       "2271   C1373339236            0.00            0.00        1               0  \n",
       "3633   C1448192965            0.00            0.00        1               0  \n",
       "3809    C273430415       364128.61      2619062.97        1               0  \n",
       "3903   C1996747267            0.00            0.00        1               0  \n",
       "3924    C910594371       154034.94      4736109.45        1               0  \n",
       "4497   C1829927547            0.00            0.00        1               0  \n",
       "6341   C1662761228       438199.37      3124763.41        1               0  \n",
       "8847    C926776113            0.00            0.00        1               0  \n",
       "10871   C639808302            0.00            0.00        1               0  \n",
       "10909   C641615589            0.00            0.00        1               0  \n",
       "11764  C1049193275            0.00            0.00        1               0  \n",
       "12426  C1018969803            0.00       322113.91        1               0  \n",
       "16325   C213999906            0.00            0.00        1               0  \n",
       "16748  C1978402788            0.00            0.00        1               0  \n",
       "17842   C218558993            0.00            0.00        1               0  \n",
       "17931   C588779235        24708.00       171647.35        1               0  "
      ]
     },
     "execution_count": 13,
     "metadata": {},
     "output_type": "execute_result"
    }
   ],
   "source": [
    "dataset[dataset['isFraud']==1]"
   ]
  },
  {
   "cell_type": "code",
   "execution_count": 14,
   "metadata": {
    "collapsed": true
   },
   "outputs": [],
   "source": [
    "fraude=dataset[dataset['isFraud']==1]\n",
    "pas_de_fraude=dataset[dataset['isFraud']!=1]"
   ]
  },
  {
   "cell_type": "code",
   "execution_count": 15,
   "metadata": {},
   "outputs": [
    {
     "data": {
      "image/png": "[encoded data removed]",
      "text/plain": [
       "<matplotlib.figure.Figure at 0x27ceef3bb70>"
      ]
     },
     "metadata": {},
     "output_type": "display_data"
    }
   ],
   "source": [
    "sns.countplot(x='type',data=fraude,palette='hls')\n",
    "plt.show()"
   ]
  },
  {
   "cell_type": "code",
   "execution_count": 16,
   "metadata": {},
   "outputs": [
    {
     "data": {
      "image/png": "[encoded data removed]",
      "text/plain": [
       "<matplotlib.figure.Figure at 0x27ceae014a8>"
      ]
     },
     "metadata": {},
     "output_type": "display_data"
    }
   ],
   "source": [
    "sns.countplot(x='type',data=pas_de_fraude,palette='hls')\n",
    "plt.show()"
   ]
  },
  {
   "cell_type": "code",
   "execution_count": null,
   "metadata": {
    "collapsed": true
   },
   "outputs": [],
   "source": []
  }
 ],
 "metadata": {
  "kernelspec": {
   "display_name": "Python 3",
   "language": "python",
   "name": "python3"
  },
  "language_info": {
   "codemirror_mode": {
    "name": "ipython",
    "version": 3
   },
   "file_extension": ".py",
   "mimetype": "text/x-python",
   "name": "python",
   "nbconvert_exporter": "python",
   "pygments_lexer": "ipython3",
   "version": "3.6.3"
  }
 },
 "nbformat": 4,
 "nbformat_minor": 2
}
